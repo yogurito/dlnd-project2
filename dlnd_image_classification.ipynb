{
 "cells": [
  {
   "cell_type": "markdown",
   "metadata": {
    "collapsed": true
   },
   "source": [
    "# Image Classification\n",
    "In this project, you'll classify images from the [CIFAR-10 dataset](https://www.cs.toronto.edu/~kriz/cifar.html).  The dataset consists of airplanes, dogs, cats, and other objects. You'll preprocess the images, then train a convolutional neural network on all the samples. The images need to be normalized and the labels need to be one-hot encoded.  You'll get to apply what you learned and build a convolutional, max pooling, dropout, and fully connected layers.  At the end, you'll get to see your neural network's predictions on the sample images.\n",
    "## Get the Data\n",
    "Run the following cell to download the [CIFAR-10 dataset for python](https://www.cs.toronto.edu/~kriz/cifar-10-python.tar.gz)."
   ]
  },
  {
   "cell_type": "code",
   "execution_count": 2,
   "metadata": {},
   "outputs": [
    {
     "name": "stdout",
     "output_type": "stream",
     "text": [
      "All files found!\n"
     ]
    }
   ],
   "source": [
    "\"\"\"\n",
    "DON'T MODIFY ANYTHING IN THIS CELL THAT IS BELOW THIS LINE\n",
    "\"\"\"\n",
    "from urllib.request import urlretrieve\n",
    "from os.path import isfile, isdir\n",
    "from tqdm import tqdm\n",
    "import problem_unittests as tests\n",
    "import tarfile\n",
    "\n",
    "cifar10_dataset_folder_path = 'cifar-10-batches-py'\n",
    "\n",
    "# Use Floyd's cifar-10 dataset if present\n",
    "floyd_cifar10_location = '/input/cifar-10/python.tar.gz'\n",
    "if isfile(floyd_cifar10_location):\n",
    "    tar_gz_path = floyd_cifar10_location\n",
    "else:\n",
    "    tar_gz_path = 'cifar-10-python.tar.gz'\n",
    "\n",
    "class DLProgress(tqdm):\n",
    "    last_block = 0\n",
    "\n",
    "    def hook(self, block_num=1, block_size=1, total_size=None):\n",
    "        self.total = total_size\n",
    "        self.update((block_num - self.last_block) * block_size)\n",
    "        self.last_block = block_num\n",
    "\n",
    "if not isfile(tar_gz_path):\n",
    "    with DLProgress(unit='B', unit_scale=True, miniters=1, desc='CIFAR-10 Dataset') as pbar:\n",
    "        urlretrieve(\n",
    "            'https://www.cs.toronto.edu/~kriz/cifar-10-python.tar.gz',\n",
    "            tar_gz_path,\n",
    "            pbar.hook)\n",
    "\n",
    "if not isdir(cifar10_dataset_folder_path):\n",
    "    with tarfile.open(tar_gz_path) as tar:\n",
    "        tar.extractall()\n",
    "        tar.close()\n",
    "\n",
    "\n",
    "tests.test_folder_path(cifar10_dataset_folder_path)"
   ]
  },
  {
   "cell_type": "markdown",
   "metadata": {},
   "source": [
    "## Explore the Data\n",
    "The dataset is broken into batches to prevent your machine from running out of memory.  The CIFAR-10 dataset consists of 5 batches, named `data_batch_1`, `data_batch_2`, etc.. Each batch contains the labels and images that are one of the following:\n",
    "* airplane\n",
    "* automobile\n",
    "* bird\n",
    "* cat\n",
    "* deer\n",
    "* dog\n",
    "* frog\n",
    "* horse\n",
    "* ship\n",
    "* truck\n",
    "\n",
    "Understanding a dataset is part of making predictions on the data.  Play around with the code cell below by changing the `batch_id` and `sample_id`. The `batch_id` is the id for a batch (1-5). The `sample_id` is the id for a image and label pair in the batch.\n",
    "\n",
    "Ask yourself \"What are all possible labels?\", \"What is the range of values for the image data?\", \"Are the labels in order or random?\".  Answers to questions like these will help you preprocess the data and end up with better predictions."
   ]
  },
  {
   "cell_type": "code",
   "execution_count": 3,
   "metadata": {},
   "outputs": [
    {
     "name": "stdout",
     "output_type": "stream",
     "text": [
      "\n",
      "Stats of batch 1:\n",
      "Samples: 10000\n",
      "Label Counts: {0: 1005, 1: 974, 2: 1032, 3: 1016, 4: 999, 5: 937, 6: 1030, 7: 1001, 8: 1025, 9: 981}\n",
      "First 20 Labels: [6, 9, 9, 4, 1, 1, 2, 7, 8, 3, 4, 7, 7, 2, 9, 9, 9, 3, 2, 6]\n",
      "\n",
      "Example of Image 5:\n",
      "Image - Min Value: 0 Max Value: 252\n",
      "Image - Shape: (32, 32, 3)\n",
      "Label - Label Id: 1 Name: automobile\n"
     ]
    },
    {
     "data": {
      "image/png": "[encoded data removed]",
      "text/plain": [
       "<matplotlib.figure.Figure at 0x7f16b8417f28>"
      ]
     },
     "metadata": {
      "image/png": {
       "height": 250,
       "width": 253
      }
     },
     "output_type": "display_data"
    }
   ],
   "source": [
    "%matplotlib inline\n",
    "%config InlineBackend.figure_format = 'retina'\n",
    "\n",
    "import helper\n",
    "import numpy as np\n",
    "\n",
    "# Explore the dataset\n",
    "batch_id = 1\n",
    "sample_id = 5\n",
    "helper.display_stats(cifar10_dataset_folder_path, batch_id, sample_id)"
   ]
  },
  {
   "cell_type": "markdown",
   "metadata": {},
   "source": [
    "## Implement Preprocess Functions\n",
    "### Normalize\n",
    "In the cell below, implement the `normalize` function to take in image data, `x`, and return it as a normalized Numpy array. The values should be in the range of 0 to 1, inclusive.  The return object should be the same shape as `x`."
   ]
  },
  {
   "cell_type": "code",
   "execution_count": 4,
   "metadata": {},
   "outputs": [
    {
     "name": "stdout",
     "output_type": "stream",
     "text": [
      "Tests Passed\n"
     ]
    }
   ],
   "source": [
    "def normalize(x):\n",
    "    \"\"\"\n",
    "    Normalize a list of sample image data in the range of 0 to 1\n",
    "    : x: List of image data.  The image shape is (32, 32, 3)\n",
    "    : return: Numpy array of normalize data\n",
    "    \"\"\"\n",
    "    normalized_images = []\n",
    "    for img in x:\n",
    "        np_img = np.array(img)\n",
    "        normalized_images.append((np_img - np.min(np_img)) / (np.max(np_img) - np.min(np_img)))\n",
    "    return np.array(normalized_images)\n",
    "\n",
    "\n",
    "\"\"\"\n",
    "DON'T MODIFY ANYTHING IN THIS CELL THAT IS BELOW THIS LINE\n",
    "\"\"\"\n",
    "tests.test_normalize(normalize)"
   ]
  },
  {
   "cell_type": "markdown",
   "metadata": {},
   "source": [
    "### One-hot encode\n",
    "Just like the previous code cell, you'll be implementing a function for preprocessing.  This time, you'll implement the `one_hot_encode` function. The input, `x`, are a list of labels.  Implement the function to return the list of labels as One-Hot encoded Numpy array.  The possible values for labels are 0 to 9. The one-hot encoding function should return the same encoding for each value between each call to `one_hot_encode`.  Make sure to save the map of encodings outside the function.\n",
    "\n",
    "Hint: Don't reinvent the wheel."
   ]
  },
  {
   "cell_type": "code",
   "execution_count": 5,
   "metadata": {},
   "outputs": [
    {
     "name": "stdout",
     "output_type": "stream",
     "text": [
      "Tests Passed\n"
     ]
    }
   ],
   "source": [
    "label_map = {}\n",
    "for i in range(10):\n",
    "    label_map[i] = np.zeros(10)\n",
    "    label_map[i][i] = 1\n",
    "    \n",
    "def one_hot_encode(x):\n",
    "    \"\"\"\n",
    "    One hot encode a list of sample labels. Return a one-hot encoded vector for each label.\n",
    "    : x: List of sample Labels\n",
    "    : return: Numpy array of one-hot encoded labels\n",
    "    \"\"\"\n",
    "    encoded_vector = []\n",
    "    for label in x:\n",
    "        encoded_vector.append(label_map[label])\n",
    "    return np.array(encoded_vector)\n",
    "\n",
    "\n",
    "\"\"\"\n",
    "DON'T MODIFY ANYTHING IN THIS CELL THAT IS BELOW THIS LINE\n",
    "\"\"\"\n",
    "tests.test_one_hot_encode(one_hot_encode)"
   ]
  },
  {
   "cell_type": "markdown",
   "metadata": {},
   "source": [
    "### Randomize Data\n",
    "As you saw from exploring the data above, the order of the samples are randomized.  It doesn't hurt to randomize it again, but you don't need to for this dataset."
   ]
  },
  {
   "cell_type": "markdown",
   "metadata": {},
   "source": [
    "## Preprocess all the data and save it\n",
    "Running the code cell below will preprocess all the CIFAR-10 data and save it to file. The code below also uses 10% of the training data for validation."
   ]
  },
  {
   "cell_type": "code",
   "execution_count": 6,
   "metadata": {
    "collapsed": true
   },
   "outputs": [],
   "source": [
    "\"\"\"\n",
    "DON'T MODIFY ANYTHING IN THIS CELL\n",
    "\"\"\"\n",
    "# Preprocess Training, Validation, and Testing Data\n",
    "helper.preprocess_and_save_data(cifar10_dataset_folder_path, normalize, one_hot_encode)"
   ]
  },
  {
   "cell_type": "markdown",
   "metadata": {},
   "source": [
    "# Check Point\n",
    "This is your first checkpoint.  If you ever decide to come back to this notebook or have to restart the notebook, you can start from here.  The preprocessed data has been saved to disk."
   ]
  },
  {
   "cell_type": "code",
   "execution_count": 7,
   "metadata": {
    "collapsed": true
   },
   "outputs": [],
   "source": [
    "\"\"\"\n",
    "DON'T MODIFY ANYTHING IN THIS CELL\n",
    "\"\"\"\n",
    "import pickle\n",
    "import problem_unittests as tests\n",
    "import helper\n",
    "\n",
    "# Load the Preprocessed Validation data\n",
    "valid_features, valid_labels = pickle.load(open('preprocess_validation.p', mode='rb'))"
   ]
  },
  {
   "cell_type": "markdown",
   "metadata": {},
   "source": [
    "## Build the network\n",
    "For the neural network, you'll build each layer into a function.  Most of the code you've seen has been outside of functions. To test your code more thoroughly, we require that you put each layer in a function.  This allows us to give you better feedback and test for simple mistakes using our unittests before you submit your project.\n",
    "\n",
    ">**Note:** If you're finding it hard to dedicate enough time for this course each week, we've provided a small shortcut to this part of the project. In the next couple of problems, you'll have the option to use classes from the [TensorFlow Layers](https://www.tensorflow.org/api_docs/python/tf/layers) or [TensorFlow Layers (contrib)](https://www.tensorflow.org/api_guides/python/contrib.layers) packages to build each layer, except the layers you build in the \"Convolutional and Max Pooling Layer\" section.  TF Layers is similar to Keras's and TFLearn's abstraction to layers, so it's easy to pickup.\n",
    "\n",
    ">However, if you would like to get the most out of this course, try to solve all the problems _without_ using anything from the TF Layers packages. You **can** still use classes from other packages that happen to have the same name as ones you find in TF Layers! For example, instead of using the TF Layers version of the `conv2d` class, [tf.layers.conv2d](https://www.tensorflow.org/api_docs/python/tf/layers/conv2d), you would want to use the TF Neural Network version of `conv2d`, [tf.nn.conv2d](https://www.tensorflow.org/api_docs/python/tf/nn/conv2d). \n",
    "\n",
    "Let's begin!\n",
    "\n",
    "### Input\n",
    "The neural network needs to read the image data, one-hot encoded labels, and dropout keep probability. Implement the following functions\n",
    "* Implement `neural_net_image_input`\n",
    " * Return a [TF Placeholder](https://www.tensorflow.org/api_docs/python/tf/placeholder)\n",
    " * Set the shape using `image_shape` with batch size set to `None`.\n",
    " * Name the TensorFlow placeholder \"x\" using the TensorFlow `name` parameter in the [TF Placeholder](https://www.tensorflow.org/api_docs/python/tf/placeholder).\n",
    "* Implement `neural_net_label_input`\n",
    " * Return a [TF Placeholder](https://www.tensorflow.org/api_docs/python/tf/placeholder)\n",
    " * Set the shape using `n_classes` with batch size set to `None`.\n",
    " * Name the TensorFlow placeholder \"y\" using the TensorFlow `name` parameter in the [TF Placeholder](https://www.tensorflow.org/api_docs/python/tf/placeholder).\n",
    "* Implement `neural_net_keep_prob_input`\n",
    " * Return a [TF Placeholder](https://www.tensorflow.org/api_docs/python/tf/placeholder) for dropout keep probability.\n",
    " * Name the TensorFlow placeholder \"keep_prob\" using the TensorFlow `name` parameter in the [TF Placeholder](https://www.tensorflow.org/api_docs/python/tf/placeholder).\n",
    "\n",
    "These names will be used at the end of the project to load your saved model.\n",
    "\n",
    "Note: `None` for shapes in TensorFlow allow for a dynamic size."
   ]
  },
  {
   "cell_type": "code",
   "execution_count": 8,
   "metadata": {},
   "outputs": [
    {
     "name": "stdout",
     "output_type": "stream",
     "text": [
      "Image Input Tests Passed.\n",
      "Label Input Tests Passed.\n",
      "Keep Prob Tests Passed.\n"
     ]
    }
   ],
   "source": [
    "import tensorflow as tf\n",
    "\n",
    "def neural_net_image_input(image_shape):\n",
    "    \"\"\"\n",
    "    Return a Tensor for a batch of image input\n",
    "    : image_shape: Shape of the images\n",
    "    : return: Tensor for image input.\n",
    "    \"\"\"\n",
    "    # TODO: Implement Function\n",
    "    x = tf.placeholder(tf.float32, shape=[None, image_shape[0], image_shape[1], image_shape[2]], name='x')\n",
    "    return x\n",
    "\n",
    "\n",
    "def neural_net_label_input(n_classes):\n",
    "    \"\"\"\n",
    "    Return a Tensor for a batch of label input\n",
    "    : n_classes: Number of classes\n",
    "    : return: Tensor for label input.\n",
    "    \"\"\"\n",
    "    # TODO: Implement Function\n",
    "    y = tf.placeholder(tf.float32, shape=[None, n_classes], name='y')\n",
    "    return y\n",
    "\n",
    "\n",
    "def neural_net_keep_prob_input():\n",
    "    \"\"\"\n",
    "    Return a Tensor for keep probability\n",
    "    : return: Tensor for keep probability.\n",
    "    \"\"\"\n",
    "    # TODO: Implement Function\n",
    "    keep_prob = tf.placeholder(tf.float32, name='keep_prob')\n",
    "    return keep_prob\n",
    "\n",
    "\n",
    "\"\"\"\n",
    "DON'T MODIFY ANYTHING IN THIS CELL THAT IS BELOW THIS LINE\n",
    "\"\"\"\n",
    "tf.reset_default_graph()\n",
    "tests.test_nn_image_inputs(neural_net_image_input)\n",
    "tests.test_nn_label_inputs(neural_net_label_input)\n",
    "tests.test_nn_keep_prob_inputs(neural_net_keep_prob_input)"
   ]
  },
  {
   "cell_type": "markdown",
   "metadata": {},
   "source": [
    "### Convolution and Max Pooling Layer\n",
    "Convolution layers have a lot of success with images. For this code cell, you should implement the function `conv2d_maxpool` to apply convolution then max pooling:\n",
    "* Create the weight and bias using `conv_ksize`, `conv_num_outputs` and the shape of `x_tensor`.\n",
    "* Apply a convolution to `x_tensor` using weight and `conv_strides`.\n",
    " * We recommend you use same padding, but you're welcome to use any padding.\n",
    "* Add bias\n",
    "* Add a nonlinear activation to the convolution.\n",
    "* Apply Max Pooling using `pool_ksize` and `pool_strides`.\n",
    " * We recommend you use same padding, but you're welcome to use any padding.\n",
    "\n",
    "**Note:** You **can't** use [TensorFlow Layers](https://www.tensorflow.org/api_docs/python/tf/layers) or [TensorFlow Layers (contrib)](https://www.tensorflow.org/api_guides/python/contrib.layers) for **this** layer, but you can still use TensorFlow's [Neural Network](https://www.tensorflow.org/api_docs/python/tf/nn) package. You may still use the shortcut option for all the **other** layers."
   ]
  },
  {
   "cell_type": "code",
   "execution_count": 9,
   "metadata": {},
   "outputs": [
    {
     "name": "stdout",
     "output_type": "stream",
     "text": [
      "Tests Passed\n"
     ]
    }
   ],
   "source": [
    "def conv2d_maxpool(x_tensor, conv_num_outputs, conv_ksize, conv_strides, pool_ksize, pool_strides):\n",
    "    \"\"\"\n",
    "    Apply convolution then max pooling to x_tensor\n",
    "    :param x_tensor: TensorFlow Tensor\n",
    "    :param conv_num_outputs: Number of outputs for the convolutional layer\n",
    "    :param conv_ksize: kernal size 2-D Tuple for the convolutional layer\n",
    "    :param conv_strides: Stride 2-D Tuple for convolution\n",
    "    :param pool_ksize: kernal size 2-D Tuple for pool\n",
    "    :param pool_strides: Stride 2-D Tuple for pool\n",
    "    : return: A tensor that represents convolution and max pooling of x_tensor\n",
    "    \"\"\"\n",
    "    # TODO: Implement Function\n",
    "    # print(x_tensor)\n",
    "    # print(conv_num_outputs)\n",
    "    # print(conv_ksize)\n",
    "    # print(conv_strides)\n",
    "    # print(pool_ksize)\n",
    "    # print(pool_strides)\n",
    "    \n",
    "    W = tf.Variable(tf.truncated_normal([conv_ksize[0], conv_ksize[1], \n",
    "                                         x_tensor.shape.as_list()[3], conv_num_outputs], stddev=0.05))\n",
    "    b = tf.Variable(tf.zeros(conv_num_outputs))\n",
    "    \n",
    "    x = tf.nn.conv2d(x_tensor, W, strides=[1, conv_strides[0], conv_strides[1], 1], padding='SAME')\n",
    "    y = tf.nn.bias_add(x, b)\n",
    "    y = tf.nn.relu(y)\n",
    "    \n",
    "    mpool = tf.nn.max_pool(y, ksize=[1, pool_ksize[0], pool_ksize[1], 1], \n",
    "                           strides=[1, pool_strides[0], pool_strides[1], 1], padding='SAME')\n",
    "    return mpool\n",
    "\n",
    "\n",
    "\"\"\"\n",
    "DON'T MODIFY ANYTHING IN THIS CELL THAT IS BELOW THIS LINE\n",
    "\"\"\"\n",
    "tests.test_con_pool(conv2d_maxpool)"
   ]
  },
  {
   "cell_type": "markdown",
   "metadata": {},
   "source": [
    "### Flatten Layer\n",
    "Implement the `flatten` function to change the dimension of `x_tensor` from a 4-D tensor to a 2-D tensor.  The output should be the shape (*Batch Size*, *Flattened Image Size*). Shortcut option: you can use classes from the [TensorFlow Layers](https://www.tensorflow.org/api_docs/python/tf/layers) or [TensorFlow Layers (contrib)](https://www.tensorflow.org/api_guides/python/contrib.layers) packages for this layer. For more of a challenge, only use other TensorFlow packages."
   ]
  },
  {
   "cell_type": "code",
   "execution_count": 10,
   "metadata": {},
   "outputs": [
    {
     "name": "stdout",
     "output_type": "stream",
     "text": [
      "Tests Passed\n"
     ]
    }
   ],
   "source": [
    "def flatten(x_tensor):\n",
    "    \"\"\"\n",
    "    Flatten x_tensor to (Batch Size, Flattened Image Size)\n",
    "    : x_tensor: A tensor of size (Batch Size, ...), where ... are the image dimensions.\n",
    "    : return: A tensor of size (Batch Size, Flattened Image Size).\n",
    "    \"\"\"\n",
    "    # TODO: Implement Function\n",
    "    x_shape = x_tensor.shape.as_list()\n",
    "    return tf.reshape(x_tensor, shape=[-1, x_shape[1] * x_shape[2] * x_shape[3]])\n",
    "\n",
    "\n",
    "\"\"\"\n",
    "DON'T MODIFY ANYTHING IN THIS CELL THAT IS BELOW THIS LINE\n",
    "\"\"\"\n",
    "tests.test_flatten(flatten)"
   ]
  },
  {
   "cell_type": "markdown",
   "metadata": {},
   "source": [
    "### Fully-Connected Layer\n",
    "Implement the `fully_conn` function to apply a fully connected layer to `x_tensor` with the shape (*Batch Size*, *num_outputs*). Shortcut option: you can use classes from the [TensorFlow Layers](https://www.tensorflow.org/api_docs/python/tf/layers) or [TensorFlow Layers (contrib)](https://www.tensorflow.org/api_guides/python/contrib.layers) packages for this layer. For more of a challenge, only use other TensorFlow packages."
   ]
  },
  {
   "cell_type": "code",
   "execution_count": 11,
   "metadata": {},
   "outputs": [
    {
     "name": "stdout",
     "output_type": "stream",
     "text": [
      "Tests Passed\n"
     ]
    }
   ],
   "source": [
    "def fully_conn(x_tensor, num_outputs):\n",
    "    \"\"\"\n",
    "    Apply a fully connected layer to x_tensor using weight and bias\n",
    "    : x_tensor: A 2-D tensor where the first dimension is batch size.\n",
    "    : num_outputs: The number of output that the new tensor should be.\n",
    "    : return: A 2-D tensor where the second dimension is num_outputs.\n",
    "    \"\"\"\n",
    "    # TODO: Implement Function\n",
    "    W = tf.Variable(tf.truncated_normal([x_tensor.shape.as_list()[1], num_outputs], stddev=0.05))\n",
    "    b = tf.Variable(tf.zeros(num_outputs))\n",
    "    logits = tf.add(tf.matmul(x_tensor, W), b)\n",
    "    return tf.nn.relu(logits)\n",
    "\n",
    "\n",
    "\"\"\"\n",
    "DON'T MODIFY ANYTHING IN THIS CELL THAT IS BELOW THIS LINE\n",
    "\"\"\"\n",
    "tests.test_fully_conn(fully_conn)"
   ]
  },
  {
   "cell_type": "markdown",
   "metadata": {},
   "source": [
    "### Output Layer\n",
    "Implement the `output` function to apply a fully connected layer to `x_tensor` with the shape (*Batch Size*, *num_outputs*). Shortcut option: you can use classes from the [TensorFlow Layers](https://www.tensorflow.org/api_docs/python/tf/layers) or [TensorFlow Layers (contrib)](https://www.tensorflow.org/api_guides/python/contrib.layers) packages for this layer. For more of a challenge, only use other TensorFlow packages.\n",
    "\n",
    "**Note:** Activation, softmax, or cross entropy should **not** be applied to this."
   ]
  },
  {
   "cell_type": "code",
   "execution_count": 12,
   "metadata": {},
   "outputs": [
    {
     "name": "stdout",
     "output_type": "stream",
     "text": [
      "Tests Passed\n"
     ]
    }
   ],
   "source": [
    "def output(x_tensor, num_outputs):\n",
    "    \"\"\"\n",
    "    Apply a output layer to x_tensor using weight and bias\n",
    "    : x_tensor: A 2-D tensor where the first dimension is batch size.\n",
    "    : num_outputs: The number of output that the new tensor should be.\n",
    "    : return: A 2-D tensor where the second dimension is num_outputs.\n",
    "    \"\"\"\n",
    "    # TODO: Implement Function\n",
    "    W = tf.Variable(tf.truncated_normal([x_tensor.shape.as_list()[1], num_outputs], stddev=0.05))\n",
    "    b = tf.Variable(tf.zeros(num_outputs))\n",
    "    return tf.add(tf.matmul(x_tensor, W), b)\n",
    "\n",
    "\n",
    "\"\"\"\n",
    "DON'T MODIFY ANYTHING IN THIS CELL THAT IS BELOW THIS LINE\n",
    "\"\"\"\n",
    "tests.test_output(output)"
   ]
  },
  {
   "cell_type": "markdown",
   "metadata": {},
   "source": [
    "### Create Convolutional Model\n",
    "Implement the function `conv_net` to create a convolutional neural network model. The function takes in a batch of images, `x`, and outputs logits.  Use the layers you created above to create this model:\n",
    "\n",
    "* Apply 1, 2, or 3 Convolution and Max Pool layers\n",
    "* Apply a Flatten Layer\n",
    "* Apply 1, 2, or 3 Fully Connected Layers\n",
    "* Apply an Output Layer\n",
    "* Return the output\n",
    "* Apply [TensorFlow's Dropout](https://www.tensorflow.org/api_docs/python/tf/nn/dropout) to one or more layers in the model using `keep_prob`. "
   ]
  },
  {
   "cell_type": "code",
   "execution_count": 13,
   "metadata": {},
   "outputs": [
    {
     "name": "stdout",
     "output_type": "stream",
     "text": [
      "Neural Network Built!\n"
     ]
    }
   ],
   "source": [
    "def conv_net(x, keep_prob):\n",
    "    \"\"\"\n",
    "    Create a convolutional neural network model\n",
    "    : x: Placeholder tensor that holds image data.\n",
    "    : keep_prob: Placeholder tensor that hold dropout keep probability.\n",
    "    : return: Tensor that represents logits\n",
    "    \"\"\"\n",
    "    # TODO: Apply 1, 2, or 3 Convolution and Max Pool layers\n",
    "    #    Play around with different number of outputs, kernel size and stride\n",
    "    # Function Definition from Above:\n",
    "    #    conv2d_maxpool(x_tensor, conv_num_outputs, conv_ksize, conv_strides, pool_ksize, pool_strides)\n",
    "    conv = conv2d_maxpool(x, 16, (5, 5), (1, 1), (1, 1), (1, 1))\n",
    "    conv = conv2d_maxpool(conv, 32, (3, 3), (1, 1), (2, 2), (2, 2))\n",
    "    conv = conv2d_maxpool(conv, 32, (3, 3), (1, 1), (2, 2), (2, 2))\n",
    "    # conv = conv2d_maxpool(conv, 20, (4, 4), (4, 4), (2, 2), (1, 1))\n",
    "    \n",
    "\n",
    "    # TODO: Apply a Flatten Layer\n",
    "    # Function Definition from Above:\n",
    "    #   flatten(x_tensor)\n",
    "    flat = flatten(conv)\n",
    "\n",
    "    # TODO: Apply 1, 2, or 3 Fully Connected Layers\n",
    "    #    Play around with different number of outputs\n",
    "    # Function Definition from Above:\n",
    "    #   fully_conn(x_tensor, num_outputs)\n",
    "    dense = fully_conn(flat, 512)\n",
    "    dense = tf.nn.dropout(dense, keep_prob)\n",
    "    dense = fully_conn(dense, 256)\n",
    "    dense = tf.nn.dropout(dense, keep_prob)\n",
    "    dense = fully_conn(dense, 128)\n",
    "    dense = tf.nn.dropout(dense, keep_prob)\n",
    "    \n",
    "    # TODO: Apply an Output Layer\n",
    "    #    Set this to the number of classes\n",
    "    # Function Definition from Above:\n",
    "    #   output(x_tensor, num_outputs)\n",
    "    out = output(dense, 10)\n",
    "    \n",
    "    # TODO: return output\n",
    "    return out\n",
    "\n",
    "\n",
    "\"\"\"\n",
    "DON'T MODIFY ANYTHING IN THIS CELL THAT IS BELOW THIS LINE\n",
    "\"\"\"\n",
    "\n",
    "##############################\n",
    "## Build the Neural Network ##\n",
    "##############################\n",
    "\n",
    "# Remove previous weights, bias, inputs, etc..\n",
    "tf.reset_default_graph()\n",
    "\n",
    "# Inputs\n",
    "x = neural_net_image_input((32, 32, 3))\n",
    "y = neural_net_label_input(10)\n",
    "keep_prob = neural_net_keep_prob_input()\n",
    "\n",
    "# Model\n",
    "logits = conv_net(x, keep_prob)\n",
    "\n",
    "# Name logits Tensor, so that is can be loaded from disk after training\n",
    "logits = tf.identity(logits, name='logits')\n",
    "\n",
    "# Loss and Optimizer\n",
    "cost = tf.reduce_mean(tf.nn.softmax_cross_entropy_with_logits(logits=logits, labels=y))\n",
    "optimizer = tf.train.AdamOptimizer().minimize(cost)\n",
    "\n",
    "# Accuracy\n",
    "correct_pred = tf.equal(tf.argmax(logits, 1), tf.argmax(y, 1))\n",
    "accuracy = tf.reduce_mean(tf.cast(correct_pred, tf.float32), name='accuracy')\n",
    "\n",
    "tests.test_conv_net(conv_net)"
   ]
  },
  {
   "cell_type": "markdown",
   "metadata": {},
   "source": [
    "## Train the Neural Network\n",
    "### Single Optimization\n",
    "Implement the function `train_neural_network` to do a single optimization.  The optimization should use `optimizer` to optimize in `session` with a `feed_dict` of the following:\n",
    "* `x` for image input\n",
    "* `y` for labels\n",
    "* `keep_prob` for keep probability for dropout\n",
    "\n",
    "This function will be called for each batch, so `tf.global_variables_initializer()` has already been called.\n",
    "\n",
    "Note: Nothing needs to be returned. This function is only optimizing the neural network."
   ]
  },
  {
   "cell_type": "code",
   "execution_count": 14,
   "metadata": {},
   "outputs": [
    {
     "name": "stdout",
     "output_type": "stream",
     "text": [
      "Tests Passed\n"
     ]
    }
   ],
   "source": [
    "def train_neural_network(session, optimizer, keep_probability, feature_batch, label_batch):\n",
    "    \"\"\"\n",
    "    Optimize the session on a batch of images and labels\n",
    "    : session: Current TensorFlow session\n",
    "    : optimizer: TensorFlow optimizer function\n",
    "    : keep_probability: keep probability\n",
    "    : feature_batch: Batch of Numpy image data\n",
    "    : label_batch: Batch of Numpy label data\n",
    "    \"\"\"\n",
    "    # TODO: Implement Function\n",
    "    session.run(optimizer, feed_dict={keep_prob: keep_probability, x: feature_batch, y: label_batch})\n",
    "\n",
    "\n",
    "\"\"\"\n",
    "DON'T MODIFY ANYTHING IN THIS CELL THAT IS BELOW THIS LINE\n",
    "\"\"\"\n",
    "tests.test_train_nn(train_neural_network)"
   ]
  },
  {
   "cell_type": "markdown",
   "metadata": {},
   "source": [
    "### Show Stats\n",
    "Implement the function `print_stats` to print loss and validation accuracy.  Use the global variables `valid_features` and `valid_labels` to calculate validation accuracy.  Use a keep probability of `1.0` to calculate the loss and validation accuracy."
   ]
  },
  {
   "cell_type": "code",
   "execution_count": 15,
   "metadata": {
    "collapsed": true
   },
   "outputs": [],
   "source": [
    "def print_stats(session, feature_batch, label_batch, cost, accuracy):\n",
    "    \"\"\"\n",
    "    Print information about loss and validation accuracy\n",
    "    : session: Current TensorFlow session\n",
    "    : feature_batch: Batch of Numpy image data\n",
    "    : label_batch: Batch of Numpy label data\n",
    "    : cost: TensorFlow cost function\n",
    "    : accuracy: TensorFlow accuracy function\n",
    "    \"\"\"\n",
    "    # TODO: Implement Function\n",
    "    t_cost = session.run(cost, feed_dict={x: feature_batch, y:label_batch, keep_prob: 1.})\n",
    "    t_accuracy = session.run(accuracy, feed_dict={x: feature_batch, y:label_batch, keep_prob: 1.})\n",
    "    \n",
    "    v_cost = session.run(cost, feed_dict={x: valid_features, y: valid_labels, keep_prob: 1.})\n",
    "    v_accuracy = session.run(accuracy, feed_dict={x: valid_features, y: valid_labels, keep_prob: 1.})\n",
    "\n",
    "    print('\\n\\t<Training>\\tcost: {:>10.4f} accuracy: {:.6f}'.format(t_cost, t_accuracy))\n",
    "    print('\\t<Validation>\\tcost: {:>10.4f} accuracy: {:.6f}'.format(v_cost, v_accuracy))\n"
   ]
  },
  {
   "cell_type": "markdown",
   "metadata": {},
   "source": [
    "### Hyperparameters\n",
    "Tune the following parameters:\n",
    "* Set `epochs` to the number of iterations until the network stops learning or start overfitting\n",
    "* Set `batch_size` to the highest number that your machine has memory for.  Most people set them to common sizes of memory:\n",
    " * 64\n",
    " * 128\n",
    " * 256\n",
    " * ...\n",
    "* Set `keep_probability` to the probability of keeping a node using dropout"
   ]
  },
  {
   "cell_type": "code",
   "execution_count": 16,
   "metadata": {
    "collapsed": true
   },
   "outputs": [],
   "source": [
    "# TODO: Tune Parameters\n",
    "epochs = 20\n",
    "batch_size = 256\n",
    "keep_probability = 0.5"
   ]
  },
  {
   "cell_type": "markdown",
   "metadata": {},
   "source": [
    "### Train on a Single CIFAR-10 Batch\n",
    "Instead of training the neural network on all the CIFAR-10 batches of data, let's use a single batch. This should save time while you iterate on the model to get a better accuracy.  Once the final validation accuracy is 50% or greater, run the model on all the data in the next section."
   ]
  },
  {
   "cell_type": "code",
   "execution_count": 17,
   "metadata": {},
   "outputs": [
    {
     "name": "stdout",
     "output_type": "stream",
     "text": [
      "Checking the Training on a Single Batch...\n",
      "Epoch  1, CIFAR-10 Batch 1:  \n",
      "\t<Training>\tcost:     2.2340 accuracy: 0.175000\n",
      "\t<Validation>\tcost:     2.1731 accuracy: 0.200800\n",
      "Epoch  2, CIFAR-10 Batch 1:  \n",
      "\t<Training>\tcost:     2.2075 accuracy: 0.225000\n",
      "\t<Validation>\tcost:     1.9412 accuracy: 0.268000\n",
      "Epoch  3, CIFAR-10 Batch 1:  \n",
      "\t<Training>\tcost:     2.0588 accuracy: 0.275000\n",
      "\t<Validation>\tcost:     1.7988 accuracy: 0.330600\n",
      "Epoch  4, CIFAR-10 Batch 1:  \n",
      "\t<Training>\tcost:     1.8989 accuracy: 0.350000\n",
      "\t<Validation>\tcost:     1.6820 accuracy: 0.365400\n",
      "Epoch  5, CIFAR-10 Batch 1:  \n",
      "\t<Training>\tcost:     1.7372 accuracy: 0.425000\n",
      "\t<Validation>\tcost:     1.6184 accuracy: 0.387800\n",
      "Epoch  6, CIFAR-10 Batch 1:  \n",
      "\t<Training>\tcost:     1.5578 accuracy: 0.500000\n",
      "\t<Validation>\tcost:     1.5164 accuracy: 0.438000\n",
      "Epoch  7, CIFAR-10 Batch 1:  \n",
      "\t<Training>\tcost:     1.3976 accuracy: 0.525000\n",
      "\t<Validation>\tcost:     1.5348 accuracy: 0.429600\n",
      "Epoch  8, CIFAR-10 Batch 1:  \n",
      "\t<Training>\tcost:     1.2793 accuracy: 0.525000\n",
      "\t<Validation>\tcost:     1.4529 accuracy: 0.471000\n",
      "Epoch  9, CIFAR-10 Batch 1:  \n",
      "\t<Training>\tcost:     1.1231 accuracy: 0.625000\n",
      "\t<Validation>\tcost:     1.4044 accuracy: 0.490800\n",
      "Epoch 10, CIFAR-10 Batch 1:  \n",
      "\t<Training>\tcost:     1.0285 accuracy: 0.600000\n",
      "\t<Validation>\tcost:     1.3901 accuracy: 0.505200\n",
      "Epoch 11, CIFAR-10 Batch 1:  \n",
      "\t<Training>\tcost:     0.8588 accuracy: 0.625000\n",
      "\t<Validation>\tcost:     1.3426 accuracy: 0.507800\n",
      "Epoch 12, CIFAR-10 Batch 1:  \n",
      "\t<Training>\tcost:     0.7739 accuracy: 0.725000\n",
      "\t<Validation>\tcost:     1.3614 accuracy: 0.512800\n",
      "Epoch 13, CIFAR-10 Batch 1:  \n",
      "\t<Training>\tcost:     0.6770 accuracy: 0.775000\n",
      "\t<Validation>\tcost:     1.3391 accuracy: 0.526000\n",
      "Epoch 14, CIFAR-10 Batch 1:  \n",
      "\t<Training>\tcost:     0.6561 accuracy: 0.800000\n",
      "\t<Validation>\tcost:     1.4158 accuracy: 0.504600\n",
      "Epoch 15, CIFAR-10 Batch 1:  \n",
      "\t<Training>\tcost:     0.5274 accuracy: 0.825000\n",
      "\t<Validation>\tcost:     1.3480 accuracy: 0.521400\n",
      "Epoch 16, CIFAR-10 Batch 1:  \n",
      "\t<Training>\tcost:     0.4808 accuracy: 0.925000\n",
      "\t<Validation>\tcost:     1.3247 accuracy: 0.535800\n",
      "Epoch 17, CIFAR-10 Batch 1:  \n",
      "\t<Training>\tcost:     0.4065 accuracy: 0.925000\n",
      "\t<Validation>\tcost:     1.3506 accuracy: 0.541600\n",
      "Epoch 18, CIFAR-10 Batch 1:  \n",
      "\t<Training>\tcost:     0.3599 accuracy: 0.925000\n",
      "\t<Validation>\tcost:     1.3830 accuracy: 0.537400\n",
      "Epoch 19, CIFAR-10 Batch 1:  \n",
      "\t<Training>\tcost:     0.3282 accuracy: 0.900000\n",
      "\t<Validation>\tcost:     1.3368 accuracy: 0.555800\n",
      "Epoch 20, CIFAR-10 Batch 1:  \n",
      "\t<Training>\tcost:     0.2858 accuracy: 0.900000\n",
      "\t<Validation>\tcost:     1.3359 accuracy: 0.554200\n"
     ]
    }
   ],
   "source": [
    "\"\"\"\n",
    "DON'T MODIFY ANYTHING IN THIS CELL\n",
    "\"\"\"\n",
    "print('Checking the Training on a Single Batch...')\n",
    "with tf.Session() as sess:\n",
    "    # Initializing the variables\n",
    "    sess.run(tf.global_variables_initializer())\n",
    "    \n",
    "    # Training cycle\n",
    "    for epoch in range(epochs):\n",
    "        batch_i = 1\n",
    "        for batch_features, batch_labels in helper.load_preprocess_training_batch(batch_i, batch_size):\n",
    "            train_neural_network(sess, optimizer, keep_probability, batch_features, batch_labels)\n",
    "        print('Epoch {:>2}, CIFAR-10 Batch {}:  '.format(epoch + 1, batch_i), end='')\n",
    "        print_stats(sess, batch_features, batch_labels, cost, accuracy)"
   ]
  },
  {
   "cell_type": "markdown",
   "metadata": {},
   "source": [
    "### Fully Train the Model\n",
    "Now that you got a good accuracy with a single CIFAR-10 batch, try it with all five batches."
   ]
  },
  {
   "cell_type": "code",
   "execution_count": 18,
   "metadata": {},
   "outputs": [
    {
     "name": "stdout",
     "output_type": "stream",
     "text": [
      "Training...\n",
      "Epoch  1, CIFAR-10 Batch 1:  \n",
      "\t<Training>\tcost:     2.2505 accuracy: 0.125000\n",
      "\t<Validation>\tcost:     2.1934 accuracy: 0.161200\n",
      "Epoch  1, CIFAR-10 Batch 2:  \n",
      "\t<Training>\tcost:     2.0278 accuracy: 0.250000\n",
      "\t<Validation>\tcost:     1.9468 accuracy: 0.259400\n",
      "Epoch  1, CIFAR-10 Batch 3:  \n",
      "\t<Training>\tcost:     1.7034 accuracy: 0.350000\n",
      "\t<Validation>\tcost:     1.8521 accuracy: 0.309400\n",
      "Epoch  1, CIFAR-10 Batch 4:  \n",
      "\t<Training>\tcost:     1.7122 accuracy: 0.400000\n",
      "\t<Validation>\tcost:     1.6810 accuracy: 0.364400\n",
      "Epoch  1, CIFAR-10 Batch 5:  \n",
      "\t<Training>\tcost:     1.6106 accuracy: 0.425000\n",
      "\t<Validation>\tcost:     1.5860 accuracy: 0.401600\n",
      "Epoch  2, CIFAR-10 Batch 1:  \n",
      "\t<Training>\tcost:     1.8141 accuracy: 0.325000\n",
      "\t<Validation>\tcost:     1.5409 accuracy: 0.422200\n",
      "Epoch  2, CIFAR-10 Batch 2:  \n",
      "\t<Training>\tcost:     1.6407 accuracy: 0.425000\n",
      "\t<Validation>\tcost:     1.5890 accuracy: 0.406600\n",
      "Epoch  2, CIFAR-10 Batch 3:  \n",
      "\t<Training>\tcost:     1.2546 accuracy: 0.525000\n",
      "\t<Validation>\tcost:     1.4890 accuracy: 0.452000\n",
      "Epoch  2, CIFAR-10 Batch 4:  \n",
      "\t<Training>\tcost:     1.4347 accuracy: 0.475000\n",
      "\t<Validation>\tcost:     1.4991 accuracy: 0.458200\n",
      "Epoch  2, CIFAR-10 Batch 5:  \n",
      "\t<Training>\tcost:     1.4554 accuracy: 0.500000\n",
      "\t<Validation>\tcost:     1.4797 accuracy: 0.443400\n",
      "Epoch  3, CIFAR-10 Batch 1:  \n",
      "\t<Training>\tcost:     1.5273 accuracy: 0.450000\n",
      "\t<Validation>\tcost:     1.4115 accuracy: 0.483600\n",
      "Epoch  3, CIFAR-10 Batch 2:  \n",
      "\t<Training>\tcost:     1.2945 accuracy: 0.575000\n",
      "\t<Validation>\tcost:     1.3234 accuracy: 0.514800\n",
      "Epoch  3, CIFAR-10 Batch 3:  \n",
      "\t<Training>\tcost:     1.0663 accuracy: 0.625000\n",
      "\t<Validation>\tcost:     1.3185 accuracy: 0.531400\n",
      "Epoch  3, CIFAR-10 Batch 4:  \n",
      "\t<Training>\tcost:     1.2566 accuracy: 0.525000\n",
      "\t<Validation>\tcost:     1.2832 accuracy: 0.537600\n",
      "Epoch  3, CIFAR-10 Batch 5:  \n",
      "\t<Training>\tcost:     1.1775 accuracy: 0.650000\n",
      "\t<Validation>\tcost:     1.2670 accuracy: 0.549600\n",
      "Epoch  4, CIFAR-10 Batch 1:  \n",
      "\t<Training>\tcost:     1.2254 accuracy: 0.550000\n",
      "\t<Validation>\tcost:     1.2477 accuracy: 0.544000\n",
      "Epoch  4, CIFAR-10 Batch 2:  \n",
      "\t<Training>\tcost:     1.0497 accuracy: 0.625000\n",
      "\t<Validation>\tcost:     1.2417 accuracy: 0.540400\n",
      "Epoch  4, CIFAR-10 Batch 3:  \n",
      "\t<Training>\tcost:     0.9082 accuracy: 0.650000\n",
      "\t<Validation>\tcost:     1.2191 accuracy: 0.558600\n",
      "Epoch  4, CIFAR-10 Batch 4:  \n",
      "\t<Training>\tcost:     1.1454 accuracy: 0.600000\n",
      "\t<Validation>\tcost:     1.1901 accuracy: 0.573800\n",
      "Epoch  4, CIFAR-10 Batch 5:  \n",
      "\t<Training>\tcost:     0.9479 accuracy: 0.750000\n",
      "\t<Validation>\tcost:     1.1653 accuracy: 0.576200\n",
      "Epoch  5, CIFAR-10 Batch 1:  \n",
      "\t<Training>\tcost:     0.8991 accuracy: 0.725000\n",
      "\t<Validation>\tcost:     1.1599 accuracy: 0.578600\n",
      "Epoch  5, CIFAR-10 Batch 2:  \n",
      "\t<Training>\tcost:     0.8421 accuracy: 0.700000\n",
      "\t<Validation>\tcost:     1.1320 accuracy: 0.587000\n",
      "Epoch  5, CIFAR-10 Batch 3:  \n",
      "\t<Training>\tcost:     0.8287 accuracy: 0.700000\n",
      "\t<Validation>\tcost:     1.1627 accuracy: 0.579200\n",
      "Epoch  5, CIFAR-10 Batch 4:  \n",
      "\t<Training>\tcost:     0.9741 accuracy: 0.675000\n",
      "\t<Validation>\tcost:     1.1160 accuracy: 0.598600\n",
      "Epoch  5, CIFAR-10 Batch 5:  \n",
      "\t<Training>\tcost:     0.7277 accuracy: 0.775000\n",
      "\t<Validation>\tcost:     1.0826 accuracy: 0.606200\n",
      "Epoch  6, CIFAR-10 Batch 1:  \n",
      "\t<Training>\tcost:     0.7862 accuracy: 0.750000\n",
      "\t<Validation>\tcost:     1.0996 accuracy: 0.610400\n",
      "Epoch  6, CIFAR-10 Batch 2:  \n",
      "\t<Training>\tcost:     0.6608 accuracy: 0.750000\n",
      "\t<Validation>\tcost:     1.1103 accuracy: 0.602400\n",
      "Epoch  6, CIFAR-10 Batch 3:  \n",
      "\t<Training>\tcost:     0.7172 accuracy: 0.775000\n",
      "\t<Validation>\tcost:     1.1249 accuracy: 0.595800\n",
      "Epoch  6, CIFAR-10 Batch 4:  \n",
      "\t<Training>\tcost:     0.8962 accuracy: 0.725000\n",
      "\t<Validation>\tcost:     1.0846 accuracy: 0.612400\n",
      "Epoch  6, CIFAR-10 Batch 5:  \n",
      "\t<Training>\tcost:     0.5800 accuracy: 0.825000\n",
      "\t<Validation>\tcost:     1.0266 accuracy: 0.627600\n",
      "Epoch  7, CIFAR-10 Batch 1:  \n",
      "\t<Training>\tcost:     0.6615 accuracy: 0.750000\n",
      "\t<Validation>\tcost:     1.0437 accuracy: 0.636200\n",
      "Epoch  7, CIFAR-10 Batch 2:  \n",
      "\t<Training>\tcost:     0.5728 accuracy: 0.800000\n",
      "\t<Validation>\tcost:     1.0422 accuracy: 0.627000\n",
      "Epoch  7, CIFAR-10 Batch 3:  \n",
      "\t<Training>\tcost:     0.5194 accuracy: 0.800000\n",
      "\t<Validation>\tcost:     1.0002 accuracy: 0.642600\n",
      "Epoch  7, CIFAR-10 Batch 4:  \n",
      "\t<Training>\tcost:     0.7394 accuracy: 0.750000\n",
      "\t<Validation>\tcost:     1.0112 accuracy: 0.640800\n",
      "Epoch  7, CIFAR-10 Batch 5:  \n",
      "\t<Training>\tcost:     0.4543 accuracy: 0.875000\n",
      "\t<Validation>\tcost:     0.9924 accuracy: 0.651000\n",
      "Epoch  8, CIFAR-10 Batch 1:  \n",
      "\t<Training>\tcost:     0.5144 accuracy: 0.850000\n",
      "\t<Validation>\tcost:     1.0466 accuracy: 0.634800\n",
      "Epoch  8, CIFAR-10 Batch 2:  \n",
      "\t<Training>\tcost:     0.5162 accuracy: 0.875000\n",
      "\t<Validation>\tcost:     1.0168 accuracy: 0.638000\n",
      "Epoch  8, CIFAR-10 Batch 3:  \n",
      "\t<Training>\tcost:     0.4358 accuracy: 0.925000\n",
      "\t<Validation>\tcost:     1.0073 accuracy: 0.638200\n",
      "Epoch  8, CIFAR-10 Batch 4:  \n",
      "\t<Training>\tcost:     0.5700 accuracy: 0.825000\n",
      "\t<Validation>\tcost:     0.9743 accuracy: 0.656000\n",
      "Epoch  8, CIFAR-10 Batch 5:  \n",
      "\t<Training>\tcost:     0.3769 accuracy: 0.900000\n",
      "\t<Validation>\tcost:     0.9740 accuracy: 0.654400\n",
      "Epoch  9, CIFAR-10 Batch 1:  \n",
      "\t<Training>\tcost:     0.4821 accuracy: 0.850000\n",
      "\t<Validation>\tcost:     1.0017 accuracy: 0.654600\n",
      "Epoch  9, CIFAR-10 Batch 2:  \n",
      "\t<Training>\tcost:     0.4460 accuracy: 0.875000\n",
      "\t<Validation>\tcost:     1.0018 accuracy: 0.649800\n",
      "Epoch  9, CIFAR-10 Batch 3:  \n",
      "\t<Training>\tcost:     0.2942 accuracy: 0.975000\n",
      "\t<Validation>\tcost:     0.9804 accuracy: 0.655600\n",
      "Epoch  9, CIFAR-10 Batch 4:  \n",
      "\t<Training>\tcost:     0.4584 accuracy: 0.900000\n",
      "\t<Validation>\tcost:     0.9541 accuracy: 0.674400\n",
      "Epoch  9, CIFAR-10 Batch 5:  \n",
      "\t<Training>\tcost:     0.3277 accuracy: 0.950000\n",
      "\t<Validation>\tcost:     0.9557 accuracy: 0.664200\n",
      "Epoch 10, CIFAR-10 Batch 1:  \n",
      "\t<Training>\tcost:     0.4193 accuracy: 0.900000\n",
      "\t<Validation>\tcost:     0.9879 accuracy: 0.659800\n",
      "Epoch 10, CIFAR-10 Batch 2:  \n",
      "\t<Training>\tcost:     0.3292 accuracy: 0.925000\n",
      "\t<Validation>\tcost:     0.9354 accuracy: 0.672800\n",
      "Epoch 10, CIFAR-10 Batch 3:  \n",
      "\t<Training>\tcost:     0.2650 accuracy: 0.950000\n",
      "\t<Validation>\tcost:     0.9890 accuracy: 0.660000\n",
      "Epoch 10, CIFAR-10 Batch 4:  \n",
      "\t<Training>\tcost:     0.3673 accuracy: 0.950000\n",
      "\t<Validation>\tcost:     0.9233 accuracy: 0.677800\n",
      "Epoch 10, CIFAR-10 Batch 5:  \n",
      "\t<Training>\tcost:     0.3358 accuracy: 0.975000\n",
      "\t<Validation>\tcost:     0.9859 accuracy: 0.655400\n",
      "Epoch 11, CIFAR-10 Batch 1:  \n",
      "\t<Training>\tcost:     0.3345 accuracy: 0.850000\n",
      "\t<Validation>\tcost:     0.9504 accuracy: 0.673600\n",
      "Epoch 11, CIFAR-10 Batch 2:  \n",
      "\t<Training>\tcost:     0.2883 accuracy: 0.950000\n",
      "\t<Validation>\tcost:     0.9525 accuracy: 0.665600\n",
      "Epoch 11, CIFAR-10 Batch 3:  \n",
      "\t<Training>\tcost:     0.2370 accuracy: 0.975000\n",
      "\t<Validation>\tcost:     0.9406 accuracy: 0.678000\n",
      "Epoch 11, CIFAR-10 Batch 4:  \n",
      "\t<Training>\tcost:     0.3073 accuracy: 0.950000\n",
      "\t<Validation>\tcost:     0.9113 accuracy: 0.685800\n",
      "Epoch 11, CIFAR-10 Batch 5:  \n",
      "\t<Training>\tcost:     0.2431 accuracy: 0.950000\n",
      "\t<Validation>\tcost:     0.9084 accuracy: 0.687600\n",
      "Epoch 12, CIFAR-10 Batch 1:  \n",
      "\t<Training>\tcost:     0.2407 accuracy: 0.950000\n",
      "\t<Validation>\tcost:     0.9315 accuracy: 0.680200\n",
      "Epoch 12, CIFAR-10 Batch 2:  \n",
      "\t<Training>\tcost:     0.2491 accuracy: 0.950000\n",
      "\t<Validation>\tcost:     0.9216 accuracy: 0.680200\n",
      "Epoch 12, CIFAR-10 Batch 3:  \n",
      "\t<Training>\tcost:     0.1745 accuracy: 1.000000\n",
      "\t<Validation>\tcost:     0.9126 accuracy: 0.696200\n",
      "Epoch 12, CIFAR-10 Batch 4:  \n",
      "\t<Training>\tcost:     0.2498 accuracy: 0.975000\n",
      "\t<Validation>\tcost:     0.9521 accuracy: 0.668400\n",
      "Epoch 12, CIFAR-10 Batch 5:  \n",
      "\t<Training>\tcost:     0.1870 accuracy: 1.000000\n",
      "\t<Validation>\tcost:     1.0345 accuracy: 0.667000\n",
      "Epoch 13, CIFAR-10 Batch 1:  \n",
      "\t<Training>\tcost:     0.2472 accuracy: 0.950000\n",
      "\t<Validation>\tcost:     0.9490 accuracy: 0.671200\n",
      "Epoch 13, CIFAR-10 Batch 2:  \n",
      "\t<Training>\tcost:     0.1825 accuracy: 0.950000\n",
      "\t<Validation>\tcost:     0.9162 accuracy: 0.697400\n",
      "Epoch 13, CIFAR-10 Batch 3:  \n",
      "\t<Training>\tcost:     0.1861 accuracy: 1.000000\n",
      "\t<Validation>\tcost:     0.9019 accuracy: 0.688400\n",
      "Epoch 13, CIFAR-10 Batch 4:  \n",
      "\t<Training>\tcost:     0.2242 accuracy: 1.000000\n",
      "\t<Validation>\tcost:     0.9093 accuracy: 0.686400\n"
     ]
    },
    {
     "name": "stdout",
     "output_type": "stream",
     "text": [
      "Epoch 13, CIFAR-10 Batch 5:  \n",
      "\t<Training>\tcost:     0.1514 accuracy: 1.000000\n",
      "\t<Validation>\tcost:     0.9570 accuracy: 0.685600\n",
      "Epoch 14, CIFAR-10 Batch 1:  \n",
      "\t<Training>\tcost:     0.2000 accuracy: 0.950000\n",
      "\t<Validation>\tcost:     0.9543 accuracy: 0.677800\n",
      "Epoch 14, CIFAR-10 Batch 2:  \n",
      "\t<Training>\tcost:     0.1541 accuracy: 0.975000\n",
      "\t<Validation>\tcost:     0.9182 accuracy: 0.698200\n",
      "Epoch 14, CIFAR-10 Batch 3:  \n",
      "\t<Training>\tcost:     0.1510 accuracy: 1.000000\n",
      "\t<Validation>\tcost:     0.8941 accuracy: 0.697600\n",
      "Epoch 14, CIFAR-10 Batch 4:  \n",
      "\t<Training>\tcost:     0.1878 accuracy: 1.000000\n",
      "\t<Validation>\tcost:     0.9078 accuracy: 0.691400\n",
      "Epoch 14, CIFAR-10 Batch 5:  \n",
      "\t<Training>\tcost:     0.1439 accuracy: 0.975000\n",
      "\t<Validation>\tcost:     0.9298 accuracy: 0.692600\n",
      "Epoch 15, CIFAR-10 Batch 1:  \n",
      "\t<Training>\tcost:     0.1673 accuracy: 1.000000\n",
      "\t<Validation>\tcost:     0.9505 accuracy: 0.684400\n",
      "Epoch 15, CIFAR-10 Batch 2:  \n",
      "\t<Training>\tcost:     0.1521 accuracy: 0.975000\n",
      "\t<Validation>\tcost:     0.9775 accuracy: 0.681200\n",
      "Epoch 15, CIFAR-10 Batch 3:  \n",
      "\t<Training>\tcost:     0.1398 accuracy: 0.975000\n",
      "\t<Validation>\tcost:     0.8738 accuracy: 0.701400\n",
      "Epoch 15, CIFAR-10 Batch 4:  \n",
      "\t<Training>\tcost:     0.1488 accuracy: 1.000000\n",
      "\t<Validation>\tcost:     0.9048 accuracy: 0.695600\n",
      "Epoch 15, CIFAR-10 Batch 5:  \n",
      "\t<Training>\tcost:     0.1123 accuracy: 1.000000\n",
      "\t<Validation>\tcost:     0.9348 accuracy: 0.702600\n",
      "Epoch 16, CIFAR-10 Batch 1:  \n",
      "\t<Training>\tcost:     0.1052 accuracy: 1.000000\n",
      "\t<Validation>\tcost:     0.9476 accuracy: 0.692800\n",
      "Epoch 16, CIFAR-10 Batch 2:  \n",
      "\t<Training>\tcost:     0.1368 accuracy: 0.975000\n",
      "\t<Validation>\tcost:     1.0923 accuracy: 0.669400\n",
      "Epoch 16, CIFAR-10 Batch 3:  \n",
      "\t<Training>\tcost:     0.1262 accuracy: 0.975000\n",
      "\t<Validation>\tcost:     0.8911 accuracy: 0.707600\n",
      "Epoch 16, CIFAR-10 Batch 4:  \n",
      "\t<Training>\tcost:     0.1449 accuracy: 1.000000\n",
      "\t<Validation>\tcost:     0.9069 accuracy: 0.700800\n",
      "Epoch 16, CIFAR-10 Batch 5:  \n",
      "\t<Training>\tcost:     0.0884 accuracy: 1.000000\n",
      "\t<Validation>\tcost:     0.9134 accuracy: 0.701600\n",
      "Epoch 17, CIFAR-10 Batch 1:  \n",
      "\t<Training>\tcost:     0.1204 accuracy: 1.000000\n",
      "\t<Validation>\tcost:     0.9951 accuracy: 0.684600\n",
      "Epoch 17, CIFAR-10 Batch 2:  \n",
      "\t<Training>\tcost:     0.0867 accuracy: 0.975000\n",
      "\t<Validation>\tcost:     0.9632 accuracy: 0.694600\n",
      "Epoch 17, CIFAR-10 Batch 3:  \n",
      "\t<Training>\tcost:     0.1006 accuracy: 1.000000\n",
      "\t<Validation>\tcost:     0.9192 accuracy: 0.702600\n",
      "Epoch 17, CIFAR-10 Batch 4:  \n",
      "\t<Training>\tcost:     0.1033 accuracy: 1.000000\n",
      "\t<Validation>\tcost:     0.9213 accuracy: 0.700400\n",
      "Epoch 17, CIFAR-10 Batch 5:  \n",
      "\t<Training>\tcost:     0.0855 accuracy: 1.000000\n",
      "\t<Validation>\tcost:     0.9277 accuracy: 0.699800\n",
      "Epoch 18, CIFAR-10 Batch 1:  \n",
      "\t<Training>\tcost:     0.0975 accuracy: 1.000000\n",
      "\t<Validation>\tcost:     0.9981 accuracy: 0.683600\n",
      "Epoch 18, CIFAR-10 Batch 2:  \n",
      "\t<Training>\tcost:     0.0818 accuracy: 1.000000\n",
      "\t<Validation>\tcost:     1.0186 accuracy: 0.691200\n",
      "Epoch 18, CIFAR-10 Batch 3:  \n",
      "\t<Training>\tcost:     0.0939 accuracy: 1.000000\n",
      "\t<Validation>\tcost:     0.9003 accuracy: 0.702600\n",
      "Epoch 18, CIFAR-10 Batch 4:  \n",
      "\t<Training>\tcost:     0.0890 accuracy: 1.000000\n",
      "\t<Validation>\tcost:     0.9206 accuracy: 0.707000\n",
      "Epoch 18, CIFAR-10 Batch 5:  \n",
      "\t<Training>\tcost:     0.0721 accuracy: 1.000000\n",
      "\t<Validation>\tcost:     0.9350 accuracy: 0.702200\n",
      "Epoch 19, CIFAR-10 Batch 1:  \n",
      "\t<Training>\tcost:     0.0876 accuracy: 1.000000\n",
      "\t<Validation>\tcost:     0.9832 accuracy: 0.696400\n",
      "Epoch 19, CIFAR-10 Batch 2:  \n",
      "\t<Training>\tcost:     0.0722 accuracy: 0.975000\n",
      "\t<Validation>\tcost:     1.0264 accuracy: 0.688600\n",
      "Epoch 19, CIFAR-10 Batch 3:  \n",
      "\t<Training>\tcost:     0.0915 accuracy: 0.975000\n",
      "\t<Validation>\tcost:     0.9147 accuracy: 0.711200\n",
      "Epoch 19, CIFAR-10 Batch 4:  \n",
      "\t<Training>\tcost:     0.0812 accuracy: 1.000000\n",
      "\t<Validation>\tcost:     0.9495 accuracy: 0.698600\n",
      "Epoch 19, CIFAR-10 Batch 5:  \n",
      "\t<Training>\tcost:     0.0736 accuracy: 1.000000\n",
      "\t<Validation>\tcost:     0.9230 accuracy: 0.704000\n",
      "Epoch 20, CIFAR-10 Batch 1:  \n",
      "\t<Training>\tcost:     0.1235 accuracy: 1.000000\n",
      "\t<Validation>\tcost:     1.1012 accuracy: 0.653200\n",
      "Epoch 20, CIFAR-10 Batch 2:  \n",
      "\t<Training>\tcost:     0.0657 accuracy: 0.975000\n",
      "\t<Validation>\tcost:     0.9934 accuracy: 0.701800\n",
      "Epoch 20, CIFAR-10 Batch 3:  \n",
      "\t<Training>\tcost:     0.0843 accuracy: 0.975000\n",
      "\t<Validation>\tcost:     0.9108 accuracy: 0.709800\n",
      "Epoch 20, CIFAR-10 Batch 4:  \n",
      "\t<Training>\tcost:     0.0779 accuracy: 1.000000\n",
      "\t<Validation>\tcost:     0.9175 accuracy: 0.714000\n",
      "Epoch 20, CIFAR-10 Batch 5:  \n",
      "\t<Training>\tcost:     0.0670 accuracy: 1.000000\n",
      "\t<Validation>\tcost:     0.9537 accuracy: 0.702600\n"
     ]
    }
   ],
   "source": [
    "\"\"\"\n",
    "DON'T MODIFY ANYTHING IN THIS CELL\n",
    "\"\"\"\n",
    "save_model_path = './image_classification'\n",
    "\n",
    "print('Training...')\n",
    "with tf.Session() as sess:\n",
    "    # Initializing the variables\n",
    "    sess.run(tf.global_variables_initializer())\n",
    "    \n",
    "    # Training cycle\n",
    "    for epoch in range(epochs):\n",
    "        # Loop over all batches\n",
    "        n_batches = 5\n",
    "        for batch_i in range(1, n_batches + 1):\n",
    "            for batch_features, batch_labels in helper.load_preprocess_training_batch(batch_i, batch_size):\n",
    "                train_neural_network(sess, optimizer, keep_probability, batch_features, batch_labels)\n",
    "            print('Epoch {:>2}, CIFAR-10 Batch {}:  '.format(epoch + 1, batch_i), end='')\n",
    "            print_stats(sess, batch_features, batch_labels, cost, accuracy)\n",
    "            \n",
    "    # Save Model\n",
    "    saver = tf.train.Saver()\n",
    "    save_path = saver.save(sess, save_model_path)"
   ]
  },
  {
   "cell_type": "markdown",
   "metadata": {},
   "source": [
    "# Checkpoint\n",
    "The model has been saved to disk.\n",
    "## Test Model\n",
    "Test your model against the test dataset.  This will be your final accuracy. You should have an accuracy greater than 50%. If you don't, keep tweaking the model architecture and parameters."
   ]
  },
  {
   "cell_type": "code",
   "execution_count": 21,
   "metadata": {},
   "outputs": [
    {
     "name": "stdout",
     "output_type": "stream",
     "text": [
      "Testing Accuracy: 0.70185546875\n",
      "\n"
     ]
    },
    {
     "data": {
      "image/png": "[encoded data removed]",
      "text/plain": [
       "<matplotlib.figure.Figure at 0x7f163c0936d8>"
      ]
     },
     "metadata": {
      "image/png": {
       "height": 319,
       "width": 355
      }
     },
     "output_type": "display_data"
    }
   ],
   "source": [
    "\"\"\"\n",
    "DON'T MODIFY ANYTHING IN THIS CELL\n",
    "\"\"\"\n",
    "%matplotlib inline\n",
    "%config InlineBackend.figure_format = 'retina'\n",
    "\n",
    "import tensorflow as tf\n",
    "import pickle\n",
    "import helper\n",
    "import random\n",
    "\n",
    "# Set batch size if not already set\n",
    "try:\n",
    "    if batch_size:\n",
    "        pass\n",
    "except NameError:\n",
    "    batch_size = 64\n",
    "\n",
    "save_model_path = './image_classification'\n",
    "n_samples = 4\n",
    "top_n_predictions = 3\n",
    "\n",
    "def test_model():\n",
    "    \"\"\"\n",
    "    Test the saved model against the test dataset\n",
    "    \"\"\"\n",
    "\n",
    "    test_features, test_labels = pickle.load(open('preprocess_test.p', mode='rb'))\n",
    "    loaded_graph = tf.Graph()\n",
    "\n",
    "    with tf.Session(graph=loaded_graph) as sess:\n",
    "        # Load model\n",
    "        loader = tf.train.import_meta_graph(save_model_path + '.meta')\n",
    "        loader.restore(sess, save_model_path)\n",
    "\n",
    "        # Get Tensors from loaded model\n",
    "        loaded_x = loaded_graph.get_tensor_by_name('x:0')\n",
    "        loaded_y = loaded_graph.get_tensor_by_name('y:0')\n",
    "        loaded_keep_prob = loaded_graph.get_tensor_by_name('keep_prob:0')\n",
    "        loaded_logits = loaded_graph.get_tensor_by_name('logits:0')\n",
    "        loaded_acc = loaded_graph.get_tensor_by_name('accuracy:0')\n",
    "        \n",
    "        # Get accuracy in batches for memory limitations\n",
    "        test_batch_acc_total = 0\n",
    "        test_batch_count = 0\n",
    "        \n",
    "        for test_feature_batch, test_label_batch in helper.batch_features_labels(test_features, test_labels, batch_size):\n",
    "            test_batch_acc_total += sess.run(\n",
    "                loaded_acc,\n",
    "                feed_dict={loaded_x: test_feature_batch, loaded_y: test_label_batch, loaded_keep_prob: 1.0})\n",
    "            test_batch_count += 1\n",
    "\n",
    "        print('Testing Accuracy: {}\\n'.format(test_batch_acc_total/test_batch_count))\n",
    "\n",
    "        # Print Random Samples\n",
    "        random_test_features, random_test_labels = tuple(zip(*random.sample(list(zip(test_features, test_labels)), n_samples)))\n",
    "        random_test_predictions = sess.run(\n",
    "            tf.nn.top_k(tf.nn.softmax(loaded_logits), top_n_predictions),\n",
    "            feed_dict={loaded_x: random_test_features, loaded_y: random_test_labels, loaded_keep_prob: 1.0})\n",
    "        helper.display_image_predictions(random_test_features, random_test_labels, random_test_predictions)\n",
    "\n",
    "\n",
    "test_model()"
   ]
  },
  {
   "cell_type": "markdown",
   "metadata": {},
   "source": [
    "## Why 50-80% Accuracy?\n",
    "You might be wondering why you can't get an accuracy any higher. First things first, 50% isn't bad for a simple CNN.  Pure guessing would get you 10% accuracy. However, you might notice people are getting scores [well above 80%](http://rodrigob.github.io/are_we_there_yet/build/classification_datasets_results.html#43494641522d3130).  That's because we haven't taught you all there is to know about neural networks. We still need to cover a few more techniques.\n",
    "## Submitting This Project\n",
    "When submitting this project, make sure to run all the cells before saving the notebook.  Save the notebook file as \"dlnd_image_classification.ipynb\" and save it as a HTML file under \"File\" -> \"Download as\".  Include the \"helper.py\" and \"problem_unittests.py\" files in your submission."
   ]
  }
 ],
 "metadata": {
  "kernelspec": {
   "display_name": "Python 3",
   "language": "python",
   "name": "python3"
  },
  "language_info": {
   "codemirror_mode": {
    "name": "ipython",
    "version": 3
   },
   "file_extension": ".py",
   "mimetype": "text/x-python",
   "name": "python",
   "nbconvert_exporter": "python",
   "pygments_lexer": "ipython3",
   "version": "3.6.1"
  }
 },
 "nbformat": 4,
 "nbformat_minor": 1
}
