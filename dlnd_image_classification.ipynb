{
 "cells": [
  {
   "cell_type": "markdown",
   "metadata": {
    "collapsed": true
   },
   "source": [
    "# Image Classification\n",
    "In this project, you'll classify images from the [CIFAR-10 dataset](https://www.cs.toronto.edu/~kriz/cifar.html).  The dataset consists of airplanes, dogs, cats, and other objects. You'll preprocess the images, then train a convolutional neural network on all the samples. The images need to be normalized and the labels need to be one-hot encoded.  You'll get to apply what you learned and build a convolutional, max pooling, dropout, and fully connected layers.  At the end, you'll get to see your neural network's predictions on the sample images.\n",
    "## Get the Data\n",
    "Run the following cell to download the [CIFAR-10 dataset for python](https://www.cs.toronto.edu/~kriz/cifar-10-python.tar.gz)."
   ]
  },
  {
   "cell_type": "code",
   "execution_count": 24,
   "metadata": {},
   "outputs": [
    {
     "name": "stdout",
     "output_type": "stream",
     "text": [
      "All files found!\n"
     ]
    }
   ],
   "source": [
    "\"\"\"\n",
    "DON'T MODIFY ANYTHING IN THIS CELL THAT IS BELOW THIS LINE\n",
    "\"\"\"\n",
    "from urllib.request import urlretrieve\n",
    "from os.path import isfile, isdir\n",
    "from tqdm import tqdm\n",
    "import problem_unittests as tests\n",
    "import tarfile\n",
    "\n",
    "cifar10_dataset_folder_path = 'cifar-10-batches-py'\n",
    "\n",
    "# Use Floyd's cifar-10 dataset if present\n",
    "floyd_cifar10_location = '/input/cifar-10/python.tar.gz'\n",
    "if isfile(floyd_cifar10_location):\n",
    "    tar_gz_path = floyd_cifar10_location\n",
    "else:\n",
    "    tar_gz_path = 'cifar-10-python.tar.gz'\n",
    "\n",
    "class DLProgress(tqdm):\n",
    "    last_block = 0\n",
    "\n",
    "    def hook(self, block_num=1, block_size=1, total_size=None):\n",
    "        self.total = total_size\n",
    "        self.update((block_num - self.last_block) * block_size)\n",
    "        self.last_block = block_num\n",
    "\n",
    "if not isfile(tar_gz_path):\n",
    "    with DLProgress(unit='B', unit_scale=True, miniters=1, desc='CIFAR-10 Dataset') as pbar:\n",
    "        urlretrieve(\n",
    "            'https://www.cs.toronto.edu/~kriz/cifar-10-python.tar.gz',\n",
    "            tar_gz_path,\n",
    "            pbar.hook)\n",
    "\n",
    "if not isdir(cifar10_dataset_folder_path):\n",
    "    with tarfile.open(tar_gz_path) as tar:\n",
    "        tar.extractall()\n",
    "        tar.close()\n",
    "\n",
    "\n",
    "tests.test_folder_path(cifar10_dataset_folder_path)"
   ]
  },
  {
   "cell_type": "markdown",
   "metadata": {},
   "source": [
    "## Explore the Data\n",
    "The dataset is broken into batches to prevent your machine from running out of memory.  The CIFAR-10 dataset consists of 5 batches, named `data_batch_1`, `data_batch_2`, etc.. Each batch contains the labels and images that are one of the following:\n",
    "* airplane\n",
    "* automobile\n",
    "* bird\n",
    "* cat\n",
    "* deer\n",
    "* dog\n",
    "* frog\n",
    "* horse\n",
    "* ship\n",
    "* truck\n",
    "\n",
    "Understanding a dataset is part of making predictions on the data.  Play around with the code cell below by changing the `batch_id` and `sample_id`. The `batch_id` is the id for a batch (1-5). The `sample_id` is the id for a image and label pair in the batch.\n",
    "\n",
    "Ask yourself \"What are all possible labels?\", \"What is the range of values for the image data?\", \"Are the labels in order or random?\".  Answers to questions like these will help you preprocess the data and end up with better predictions."
   ]
  },
  {
   "cell_type": "code",
   "execution_count": 25,
   "metadata": {},
   "outputs": [
    {
     "name": "stdout",
     "output_type": "stream",
     "text": [
      "\n",
      "Stats of batch 1:\n",
      "Samples: 10000\n",
      "Label Counts: {0: 1005, 1: 974, 2: 1032, 3: 1016, 4: 999, 5: 937, 6: 1030, 7: 1001, 8: 1025, 9: 981}\n",
      "First 20 Labels: [6, 9, 9, 4, 1, 1, 2, 7, 8, 3, 4, 7, 7, 2, 9, 9, 9, 3, 2, 6]\n",
      "\n",
      "Example of Image 5:\n",
      "Image - Min Value: 0 Max Value: 252\n",
      "Image - Shape: (32, 32, 3)\n",
      "Label - Label Id: 1 Name: automobile\n"
     ]
    },
    {
     "data": {
      "image/png": "[encoded data removed]",
      "text/plain": [
       "<matplotlib.figure.Figure at 0x7ffa050cc2e8>"
      ]
     },
     "metadata": {
      "image/png": {
       "height": 250,
       "width": 253
      }
     },
     "output_type": "display_data"
    }
   ],
   "source": [
    "%matplotlib inline\n",
    "%config InlineBackend.figure_format = 'retina'\n",
    "\n",
    "import helper\n",
    "import numpy as np\n",
    "\n",
    "# Explore the dataset\n",
    "batch_id = 1\n",
    "sample_id = 5\n",
    "helper.display_stats(cifar10_dataset_folder_path, batch_id, sample_id)"
   ]
  },
  {
   "cell_type": "markdown",
   "metadata": {},
   "source": [
    "## Implement Preprocess Functions\n",
    "### Normalize\n",
    "In the cell below, implement the `normalize` function to take in image data, `x`, and return it as a normalized Numpy array. The values should be in the range of 0 to 1, inclusive.  The return object should be the same shape as `x`."
   ]
  },
  {
   "cell_type": "code",
   "execution_count": 26,
   "metadata": {},
   "outputs": [
    {
     "name": "stdout",
     "output_type": "stream",
     "text": [
      "Tests Passed\n"
     ]
    }
   ],
   "source": [
    "def normalize(x):\n",
    "    \"\"\"\n",
    "    Normalize a list of sample image data in the range of 0 to 1\n",
    "    : x: List of image data.  The image shape is (32, 32, 3)\n",
    "    : return: Numpy array of normalize data\n",
    "    \"\"\"\n",
    "    normalized_images = []\n",
    "    for img in x:\n",
    "        np_img = np.array(img)\n",
    "        normalized_images.append((np_img - np.min(np_img)) / (np.max(np_img) - np.min(np_img)))\n",
    "    return np.array(normalized_images)\n",
    "\n",
    "\n",
    "\"\"\"\n",
    "DON'T MODIFY ANYTHING IN THIS CELL THAT IS BELOW THIS LINE\n",
    "\"\"\"\n",
    "tests.test_normalize(normalize)"
   ]
  },
  {
   "cell_type": "markdown",
   "metadata": {},
   "source": [
    "### One-hot encode\n",
    "Just like the previous code cell, you'll be implementing a function for preprocessing.  This time, you'll implement the `one_hot_encode` function. The input, `x`, are a list of labels.  Implement the function to return the list of labels as One-Hot encoded Numpy array.  The possible values for labels are 0 to 9. The one-hot encoding function should return the same encoding for each value between each call to `one_hot_encode`.  Make sure to save the map of encodings outside the function.\n",
    "\n",
    "Hint: Don't reinvent the wheel."
   ]
  },
  {
   "cell_type": "code",
   "execution_count": 27,
   "metadata": {},
   "outputs": [
    {
     "name": "stdout",
     "output_type": "stream",
     "text": [
      "Tests Passed\n"
     ]
    }
   ],
   "source": [
    "label_map = {}\n",
    "for i in range(10):\n",
    "    label_map[i] = np.zeros(10)\n",
    "    label_map[i][i] = 1\n",
    "    \n",
    "def one_hot_encode(x):\n",
    "    \"\"\"\n",
    "    One hot encode a list of sample labels. Return a one-hot encoded vector for each label.\n",
    "    : x: List of sample Labels\n",
    "    : return: Numpy array of one-hot encoded labels\n",
    "    \"\"\"\n",
    "    encoded_vector = []\n",
    "    for label in x:\n",
    "        encoded_vector.append(label_map[label])\n",
    "    return np.array(encoded_vector)\n",
    "\n",
    "\n",
    "\"\"\"\n",
    "DON'T MODIFY ANYTHING IN THIS CELL THAT IS BELOW THIS LINE\n",
    "\"\"\"\n",
    "tests.test_one_hot_encode(one_hot_encode)"
   ]
  },
  {
   "cell_type": "markdown",
   "metadata": {},
   "source": [
    "### Randomize Data\n",
    "As you saw from exploring the data above, the order of the samples are randomized.  It doesn't hurt to randomize it again, but you don't need to for this dataset."
   ]
  },
  {
   "cell_type": "markdown",
   "metadata": {},
   "source": [
    "## Preprocess all the data and save it\n",
    "Running the code cell below will preprocess all the CIFAR-10 data and save it to file. The code below also uses 10% of the training data for validation."
   ]
  },
  {
   "cell_type": "code",
   "execution_count": 28,
   "metadata": {
    "collapsed": true
   },
   "outputs": [],
   "source": [
    "\"\"\"\n",
    "DON'T MODIFY ANYTHING IN THIS CELL\n",
    "\"\"\"\n",
    "# Preprocess Training, Validation, and Testing Data\n",
    "helper.preprocess_and_save_data(cifar10_dataset_folder_path, normalize, one_hot_encode)"
   ]
  },
  {
   "cell_type": "markdown",
   "metadata": {},
   "source": [
    "# Check Point\n",
    "This is your first checkpoint.  If you ever decide to come back to this notebook or have to restart the notebook, you can start from here.  The preprocessed data has been saved to disk."
   ]
  },
  {
   "cell_type": "code",
   "execution_count": 29,
   "metadata": {
    "collapsed": true
   },
   "outputs": [],
   "source": [
    "\"\"\"\n",
    "DON'T MODIFY ANYTHING IN THIS CELL\n",
    "\"\"\"\n",
    "import pickle\n",
    "import problem_unittests as tests\n",
    "import helper\n",
    "\n",
    "# Load the Preprocessed Validation data\n",
    "valid_features, valid_labels = pickle.load(open('preprocess_validation.p', mode='rb'))"
   ]
  },
  {
   "cell_type": "markdown",
   "metadata": {},
   "source": [
    "## Build the network\n",
    "For the neural network, you'll build each layer into a function.  Most of the code you've seen has been outside of functions. To test your code more thoroughly, we require that you put each layer in a function.  This allows us to give you better feedback and test for simple mistakes using our unittests before you submit your project.\n",
    "\n",
    ">**Note:** If you're finding it hard to dedicate enough time for this course each week, we've provided a small shortcut to this part of the project. In the next couple of problems, you'll have the option to use classes from the [TensorFlow Layers](https://www.tensorflow.org/api_docs/python/tf/layers) or [TensorFlow Layers (contrib)](https://www.tensorflow.org/api_guides/python/contrib.layers) packages to build each layer, except the layers you build in the \"Convolutional and Max Pooling Layer\" section.  TF Layers is similar to Keras's and TFLearn's abstraction to layers, so it's easy to pickup.\n",
    "\n",
    ">However, if you would like to get the most out of this course, try to solve all the problems _without_ using anything from the TF Layers packages. You **can** still use classes from other packages that happen to have the same name as ones you find in TF Layers! For example, instead of using the TF Layers version of the `conv2d` class, [tf.layers.conv2d](https://www.tensorflow.org/api_docs/python/tf/layers/conv2d), you would want to use the TF Neural Network version of `conv2d`, [tf.nn.conv2d](https://www.tensorflow.org/api_docs/python/tf/nn/conv2d). \n",
    "\n",
    "Let's begin!\n",
    "\n",
    "### Input\n",
    "The neural network needs to read the image data, one-hot encoded labels, and dropout keep probability. Implement the following functions\n",
    "* Implement `neural_net_image_input`\n",
    " * Return a [TF Placeholder](https://www.tensorflow.org/api_docs/python/tf/placeholder)\n",
    " * Set the shape using `image_shape` with batch size set to `None`.\n",
    " * Name the TensorFlow placeholder \"x\" using the TensorFlow `name` parameter in the [TF Placeholder](https://www.tensorflow.org/api_docs/python/tf/placeholder).\n",
    "* Implement `neural_net_label_input`\n",
    " * Return a [TF Placeholder](https://www.tensorflow.org/api_docs/python/tf/placeholder)\n",
    " * Set the shape using `n_classes` with batch size set to `None`.\n",
    " * Name the TensorFlow placeholder \"y\" using the TensorFlow `name` parameter in the [TF Placeholder](https://www.tensorflow.org/api_docs/python/tf/placeholder).\n",
    "* Implement `neural_net_keep_prob_input`\n",
    " * Return a [TF Placeholder](https://www.tensorflow.org/api_docs/python/tf/placeholder) for dropout keep probability.\n",
    " * Name the TensorFlow placeholder \"keep_prob\" using the TensorFlow `name` parameter in the [TF Placeholder](https://www.tensorflow.org/api_docs/python/tf/placeholder).\n",
    "\n",
    "These names will be used at the end of the project to load your saved model.\n",
    "\n",
    "Note: `None` for shapes in TensorFlow allow for a dynamic size."
   ]
  },
  {
   "cell_type": "code",
   "execution_count": 30,
   "metadata": {},
   "outputs": [
    {
     "name": "stdout",
     "output_type": "stream",
     "text": [
      "Image Input Tests Passed.\n",
      "Label Input Tests Passed.\n",
      "Keep Prob Tests Passed.\n"
     ]
    }
   ],
   "source": [
    "import tensorflow as tf\n",
    "\n",
    "def neural_net_image_input(image_shape):\n",
    "    \"\"\"\n",
    "    Return a Tensor for a batch of image input\n",
    "    : image_shape: Shape of the images\n",
    "    : return: Tensor for image input.\n",
    "    \"\"\"\n",
    "    # TODO: Implement Function\n",
    "    x = tf.placeholder(tf.float32, shape=[None, image_shape[0], image_shape[1], image_shape[2]], name='x')\n",
    "    return x\n",
    "\n",
    "\n",
    "def neural_net_label_input(n_classes):\n",
    "    \"\"\"\n",
    "    Return a Tensor for a batch of label input\n",
    "    : n_classes: Number of classes\n",
    "    : return: Tensor for label input.\n",
    "    \"\"\"\n",
    "    # TODO: Implement Function\n",
    "    y = tf.placeholder(tf.float32, shape=[None, n_classes], name='y')\n",
    "    return y\n",
    "\n",
    "\n",
    "def neural_net_keep_prob_input():\n",
    "    \"\"\"\n",
    "    Return a Tensor for keep probability\n",
    "    : return: Tensor for keep probability.\n",
    "    \"\"\"\n",
    "    # TODO: Implement Function\n",
    "    keep_prob = tf.placeholder(tf.float32, name='keep_prob')\n",
    "    return keep_prob\n",
    "\n",
    "\n",
    "\"\"\"\n",
    "DON'T MODIFY ANYTHING IN THIS CELL THAT IS BELOW THIS LINE\n",
    "\"\"\"\n",
    "tf.reset_default_graph()\n",
    "tests.test_nn_image_inputs(neural_net_image_input)\n",
    "tests.test_nn_label_inputs(neural_net_label_input)\n",
    "tests.test_nn_keep_prob_inputs(neural_net_keep_prob_input)"
   ]
  },
  {
   "cell_type": "markdown",
   "metadata": {},
   "source": [
    "### Convolution and Max Pooling Layer\n",
    "Convolution layers have a lot of success with images. For this code cell, you should implement the function `conv2d_maxpool` to apply convolution then max pooling:\n",
    "* Create the weight and bias using `conv_ksize`, `conv_num_outputs` and the shape of `x_tensor`.\n",
    "* Apply a convolution to `x_tensor` using weight and `conv_strides`.\n",
    " * We recommend you use same padding, but you're welcome to use any padding.\n",
    "* Add bias\n",
    "* Add a nonlinear activation to the convolution.\n",
    "* Apply Max Pooling using `pool_ksize` and `pool_strides`.\n",
    " * We recommend you use same padding, but you're welcome to use any padding.\n",
    "\n",
    "**Note:** You **can't** use [TensorFlow Layers](https://www.tensorflow.org/api_docs/python/tf/layers) or [TensorFlow Layers (contrib)](https://www.tensorflow.org/api_guides/python/contrib.layers) for **this** layer, but you can still use TensorFlow's [Neural Network](https://www.tensorflow.org/api_docs/python/tf/nn) package. You may still use the shortcut option for all the **other** layers."
   ]
  },
  {
   "cell_type": "code",
   "execution_count": 41,
   "metadata": {},
   "outputs": [
    {
     "name": "stdout",
     "output_type": "stream",
     "text": [
      "Tests Passed\n"
     ]
    }
   ],
   "source": [
    "def conv2d_maxpool(x_tensor, conv_num_outputs, conv_ksize, conv_strides, pool_ksize, pool_strides):\n",
    "    \"\"\"\n",
    "    Apply convolution then max pooling to x_tensor\n",
    "    :param x_tensor: TensorFlow Tensor\n",
    "    :param conv_num_outputs: Number of outputs for the convolutional layer\n",
    "    :param conv_ksize: kernal size 2-D Tuple for the convolutional layer\n",
    "    :param conv_strides: Stride 2-D Tuple for convolution\n",
    "    :param pool_ksize: kernal size 2-D Tuple for pool\n",
    "    :param pool_strides: Stride 2-D Tuple for pool\n",
    "    : return: A tensor that represents convolution and max pooling of x_tensor\n",
    "    \"\"\"\n",
    "    # TODO: Implement Function\n",
    "    # print(x_tensor)\n",
    "    # print(conv_num_outputs)\n",
    "    # print(conv_ksize)\n",
    "    # print(conv_strides)\n",
    "    # print(pool_ksize)\n",
    "    # print(pool_strides)\n",
    "    \n",
    "    W = tf.Variable(tf.truncated_normal([conv_ksize[0], conv_ksize[1], \n",
    "                                         x_tensor.shape.as_list()[3], conv_num_outputs], stddev=0.05))\n",
    "    b = tf.Variable(tf.zeros(conv_num_outputs))\n",
    "    \n",
    "    x = tf.nn.conv2d(x_tensor, W, strides=[1, conv_strides[0], conv_strides[1], 1], padding='SAME')\n",
    "    y = tf.nn.bias_add(x, b)\n",
    "    y = tf.nn.relu(y)\n",
    "    \n",
    "    mpool = tf.nn.max_pool(y, ksize=[1, pool_ksize[0], pool_ksize[1], 1], \n",
    "                           strides=[1, pool_strides[0], pool_strides[1], 1], padding='SAME')\n",
    "    return mpool\n",
    "\n",
    "\n",
    "\"\"\"\n",
    "DON'T MODIFY ANYTHING IN THIS CELL THAT IS BELOW THIS LINE\n",
    "\"\"\"\n",
    "tests.test_con_pool(conv2d_maxpool)"
   ]
  },
  {
   "cell_type": "markdown",
   "metadata": {},
   "source": [
    "### Flatten Layer\n",
    "Implement the `flatten` function to change the dimension of `x_tensor` from a 4-D tensor to a 2-D tensor.  The output should be the shape (*Batch Size*, *Flattened Image Size*). Shortcut option: you can use classes from the [TensorFlow Layers](https://www.tensorflow.org/api_docs/python/tf/layers) or [TensorFlow Layers (contrib)](https://www.tensorflow.org/api_guides/python/contrib.layers) packages for this layer. For more of a challenge, only use other TensorFlow packages."
   ]
  },
  {
   "cell_type": "code",
   "execution_count": 42,
   "metadata": {},
   "outputs": [
    {
     "name": "stdout",
     "output_type": "stream",
     "text": [
      "Tests Passed\n"
     ]
    }
   ],
   "source": [
    "def flatten(x_tensor):\n",
    "    \"\"\"\n",
    "    Flatten x_tensor to (Batch Size, Flattened Image Size)\n",
    "    : x_tensor: A tensor of size (Batch Size, ...), where ... are the image dimensions.\n",
    "    : return: A tensor of size (Batch Size, Flattened Image Size).\n",
    "    \"\"\"\n",
    "    # TODO: Implement Function\n",
    "    x_shape = x_tensor.shape.as_list()\n",
    "    return tf.reshape(x_tensor, shape=[-1, x_shape[1] * x_shape[2] * x_shape[3]])\n",
    "\n",
    "\n",
    "\"\"\"\n",
    "DON'T MODIFY ANYTHING IN THIS CELL THAT IS BELOW THIS LINE\n",
    "\"\"\"\n",
    "tests.test_flatten(flatten)"
   ]
  },
  {
   "cell_type": "markdown",
   "metadata": {},
   "source": [
    "### Fully-Connected Layer\n",
    "Implement the `fully_conn` function to apply a fully connected layer to `x_tensor` with the shape (*Batch Size*, *num_outputs*). Shortcut option: you can use classes from the [TensorFlow Layers](https://www.tensorflow.org/api_docs/python/tf/layers) or [TensorFlow Layers (contrib)](https://www.tensorflow.org/api_guides/python/contrib.layers) packages for this layer. For more of a challenge, only use other TensorFlow packages."
   ]
  },
  {
   "cell_type": "code",
   "execution_count": 43,
   "metadata": {},
   "outputs": [
    {
     "name": "stdout",
     "output_type": "stream",
     "text": [
      "Tests Passed\n"
     ]
    }
   ],
   "source": [
    "def fully_conn(x_tensor, num_outputs):\n",
    "    \"\"\"\n",
    "    Apply a fully connected layer to x_tensor using weight and bias\n",
    "    : x_tensor: A 2-D tensor where the first dimension is batch size.\n",
    "    : num_outputs: The number of output that the new tensor should be.\n",
    "    : return: A 2-D tensor where the second dimension is num_outputs.\n",
    "    \"\"\"\n",
    "    # TODO: Implement Function\n",
    "    W = tf.Variable(tf.truncated_normal([x_tensor.shape.as_list()[1], num_outputs], stddev=0.05))\n",
    "    b = tf.Variable(tf.zeros(num_outputs))\n",
    "    return tf.add(tf.matmul(x_tensor, W), b)\n",
    "\n",
    "\n",
    "\"\"\"\n",
    "DON'T MODIFY ANYTHING IN THIS CELL THAT IS BELOW THIS LINE\n",
    "\"\"\"\n",
    "tests.test_fully_conn(fully_conn)"
   ]
  },
  {
   "cell_type": "markdown",
   "metadata": {},
   "source": [
    "### Output Layer\n",
    "Implement the `output` function to apply a fully connected layer to `x_tensor` with the shape (*Batch Size*, *num_outputs*). Shortcut option: you can use classes from the [TensorFlow Layers](https://www.tensorflow.org/api_docs/python/tf/layers) or [TensorFlow Layers (contrib)](https://www.tensorflow.org/api_guides/python/contrib.layers) packages for this layer. For more of a challenge, only use other TensorFlow packages.\n",
    "\n",
    "**Note:** Activation, softmax, or cross entropy should **not** be applied to this."
   ]
  },
  {
   "cell_type": "code",
   "execution_count": 44,
   "metadata": {},
   "outputs": [
    {
     "name": "stdout",
     "output_type": "stream",
     "text": [
      "Tests Passed\n"
     ]
    }
   ],
   "source": [
    "def output(x_tensor, num_outputs):\n",
    "    \"\"\"\n",
    "    Apply a output layer to x_tensor using weight and bias\n",
    "    : x_tensor: A 2-D tensor where the first dimension is batch size.\n",
    "    : num_outputs: The number of output that the new tensor should be.\n",
    "    : return: A 2-D tensor where the second dimension is num_outputs.\n",
    "    \"\"\"\n",
    "    # TODO: Implement Function\n",
    "    W = tf.Variable(tf.truncated_normal([x_tensor.shape.as_list()[1], num_outputs], stddev=0.05))\n",
    "    b = tf.Variable(tf.zeros(num_outputs))\n",
    "    return tf.add(tf.matmul(x_tensor, W), b)\n",
    "\n",
    "\n",
    "\"\"\"\n",
    "DON'T MODIFY ANYTHING IN THIS CELL THAT IS BELOW THIS LINE\n",
    "\"\"\"\n",
    "tests.test_output(output)"
   ]
  },
  {
   "cell_type": "markdown",
   "metadata": {},
   "source": [
    "### Create Convolutional Model\n",
    "Implement the function `conv_net` to create a convolutional neural network model. The function takes in a batch of images, `x`, and outputs logits.  Use the layers you created above to create this model:\n",
    "\n",
    "* Apply 1, 2, or 3 Convolution and Max Pool layers\n",
    "* Apply a Flatten Layer\n",
    "* Apply 1, 2, or 3 Fully Connected Layers\n",
    "* Apply an Output Layer\n",
    "* Return the output\n",
    "* Apply [TensorFlow's Dropout](https://www.tensorflow.org/api_docs/python/tf/nn/dropout) to one or more layers in the model using `keep_prob`. "
   ]
  },
  {
   "cell_type": "code",
   "execution_count": 51,
   "metadata": {},
   "outputs": [
    {
     "name": "stdout",
     "output_type": "stream",
     "text": [
      "Neural Network Built!\n"
     ]
    }
   ],
   "source": [
    "def conv_net(x, keep_prob):\n",
    "    \"\"\"\n",
    "    Create a convolutional neural network model\n",
    "    : x: Placeholder tensor that holds image data.\n",
    "    : keep_prob: Placeholder tensor that hold dropout keep probability.\n",
    "    : return: Tensor that represents logits\n",
    "    \"\"\"\n",
    "    # TODO: Apply 1, 2, or 3 Convolution and Max Pool layers\n",
    "    #    Play around with different number of outputs, kernel size and stride\n",
    "    # Function Definition from Above:\n",
    "    #    conv2d_maxpool(x_tensor, conv_num_outputs, conv_ksize, conv_strides, pool_ksize, pool_strides)\n",
    "    conv = conv2d_maxpool(x, 16, (5, 5), (2, 2), (2, 2), (1, 1))\n",
    "    conv = conv2d_maxpool(conv, 32, (3, 3), (1, 1), (2, 2), (1, 1))\n",
    "    conv = conv2d_maxpool(conv, 64, (1, 1), (1, 1), (1, 1), (1, 1))\n",
    "    # conv = conv2d_maxpool(conv, 20, (4, 4), (4, 4), (2, 2), (1, 1))\n",
    "    \n",
    "\n",
    "    # TODO: Apply a Flatten Layer\n",
    "    # Function Definition from Above:\n",
    "    #   flatten(x_tensor)\n",
    "    flat = flatten(conv)\n",
    "\n",
    "    # TODO: Apply 1, 2, or 3 Fully Connected Layers\n",
    "    #    Play around with different number of outputs\n",
    "    # Function Definition from Above:\n",
    "    #   fully_conn(x_tensor, num_outputs)\n",
    "    dense = fully_conn(flat, 256)\n",
    "    dense = tf.nn.dropout(dense, keep_prob)\n",
    "    dense = fully_conn(dense, 128)\n",
    "    dense = tf.nn.dropout(dense, keep_prob)\n",
    "    dense = fully_conn(dense, 64)\n",
    "    dense = tf.nn.dropout(dense, keep_prob)\n",
    "    \n",
    "    # TODO: Apply an Output Layer\n",
    "    #    Set this to the number of classes\n",
    "    # Function Definition from Above:\n",
    "    #   output(x_tensor, num_outputs)\n",
    "    out = output(dense, 10)\n",
    "    \n",
    "    # TODO: return output\n",
    "    return out\n",
    "\n",
    "\n",
    "\"\"\"\n",
    "DON'T MODIFY ANYTHING IN THIS CELL THAT IS BELOW THIS LINE\n",
    "\"\"\"\n",
    "\n",
    "##############################\n",
    "## Build the Neural Network ##\n",
    "##############################\n",
    "\n",
    "# Remove previous weights, bias, inputs, etc..\n",
    "tf.reset_default_graph()\n",
    "\n",
    "# Inputs\n",
    "x = neural_net_image_input((32, 32, 3))\n",
    "y = neural_net_label_input(10)\n",
    "keep_prob = neural_net_keep_prob_input()\n",
    "\n",
    "# Model\n",
    "logits = conv_net(x, keep_prob)\n",
    "\n",
    "# Name logits Tensor, so that is can be loaded from disk after training\n",
    "logits = tf.identity(logits, name='logits')\n",
    "\n",
    "# Loss and Optimizer\n",
    "cost = tf.reduce_mean(tf.nn.softmax_cross_entropy_with_logits(logits=logits, labels=y))\n",
    "optimizer = tf.train.AdamOptimizer().minimize(cost)\n",
    "\n",
    "# Accuracy\n",
    "correct_pred = tf.equal(tf.argmax(logits, 1), tf.argmax(y, 1))\n",
    "accuracy = tf.reduce_mean(tf.cast(correct_pred, tf.float32), name='accuracy')\n",
    "\n",
    "tests.test_conv_net(conv_net)"
   ]
  },
  {
   "cell_type": "markdown",
   "metadata": {},
   "source": [
    "## Train the Neural Network\n",
    "### Single Optimization\n",
    "Implement the function `train_neural_network` to do a single optimization.  The optimization should use `optimizer` to optimize in `session` with a `feed_dict` of the following:\n",
    "* `x` for image input\n",
    "* `y` for labels\n",
    "* `keep_prob` for keep probability for dropout\n",
    "\n",
    "This function will be called for each batch, so `tf.global_variables_initializer()` has already been called.\n",
    "\n",
    "Note: Nothing needs to be returned. This function is only optimizing the neural network."
   ]
  },
  {
   "cell_type": "code",
   "execution_count": 52,
   "metadata": {},
   "outputs": [
    {
     "name": "stdout",
     "output_type": "stream",
     "text": [
      "Tests Passed\n"
     ]
    }
   ],
   "source": [
    "def train_neural_network(session, optimizer, keep_probability, feature_batch, label_batch):\n",
    "    \"\"\"\n",
    "    Optimize the session on a batch of images and labels\n",
    "    : session: Current TensorFlow session\n",
    "    : optimizer: TensorFlow optimizer function\n",
    "    : keep_probability: keep probability\n",
    "    : feature_batch: Batch of Numpy image data\n",
    "    : label_batch: Batch of Numpy label data\n",
    "    \"\"\"\n",
    "    # TODO: Implement Function\n",
    "    session.run(optimizer, feed_dict={keep_prob: keep_probability, x: feature_batch, y: label_batch})\n",
    "\n",
    "\n",
    "\"\"\"\n",
    "DON'T MODIFY ANYTHING IN THIS CELL THAT IS BELOW THIS LINE\n",
    "\"\"\"\n",
    "tests.test_train_nn(train_neural_network)"
   ]
  },
  {
   "cell_type": "markdown",
   "metadata": {},
   "source": [
    "### Show Stats\n",
    "Implement the function `print_stats` to print loss and validation accuracy.  Use the global variables `valid_features` and `valid_labels` to calculate validation accuracy.  Use a keep probability of `1.0` to calculate the loss and validation accuracy."
   ]
  },
  {
   "cell_type": "code",
   "execution_count": 53,
   "metadata": {
    "collapsed": true
   },
   "outputs": [],
   "source": [
    "def print_stats(session, feature_batch, label_batch, cost, accuracy):\n",
    "    \"\"\"\n",
    "    Print information about loss and validation accuracy\n",
    "    : session: Current TensorFlow session\n",
    "    : feature_batch: Batch of Numpy image data\n",
    "    : label_batch: Batch of Numpy label data\n",
    "    : cost: TensorFlow cost function\n",
    "    : accuracy: TensorFlow accuracy function\n",
    "    \"\"\"\n",
    "    # TODO: Implement Function\n",
    "    t_cost = session.run(cost, feed_dict={x: feature_batch, y:label_batch, keep_prob: 1.})\n",
    "    t_accuracy = session.run(accuracy, feed_dict={x: feature_batch, y:label_batch, keep_prob: 1.})\n",
    "    \n",
    "    v_cost = session.run(cost, feed_dict={x: valid_features, y: valid_labels, keep_prob: 1.})\n",
    "    v_accuracy = session.run(accuracy, feed_dict={x: valid_features, y: valid_labels, keep_prob: 1.})\n",
    "\n",
    "    print('\\n\\t<Training>\\tcost: {:>10.4f} accuracy: {:.6f}'.format(t_cost, t_accuracy))\n",
    "    print('\\t<Validation>\\tcost: {:>10.4f} accuracy: {:.6f}'.format(v_cost, v_accuracy))\n"
   ]
  },
  {
   "cell_type": "markdown",
   "metadata": {},
   "source": [
    "### Hyperparameters\n",
    "Tune the following parameters:\n",
    "* Set `epochs` to the number of iterations until the network stops learning or start overfitting\n",
    "* Set `batch_size` to the highest number that your machine has memory for.  Most people set them to common sizes of memory:\n",
    " * 64\n",
    " * 128\n",
    " * 256\n",
    " * ...\n",
    "* Set `keep_probability` to the probability of keeping a node using dropout"
   ]
  },
  {
   "cell_type": "code",
   "execution_count": 54,
   "metadata": {
    "collapsed": true
   },
   "outputs": [],
   "source": [
    "# TODO: Tune Parameters\n",
    "epochs = 20\n",
    "batch_size = 512\n",
    "keep_probability = 0.5"
   ]
  },
  {
   "cell_type": "markdown",
   "metadata": {},
   "source": [
    "### Train on a Single CIFAR-10 Batch\n",
    "Instead of training the neural network on all the CIFAR-10 batches of data, let's use a single batch. This should save time while you iterate on the model to get a better accuracy.  Once the final validation accuracy is 50% or greater, run the model on all the data in the next section."
   ]
  },
  {
   "cell_type": "code",
   "execution_count": 55,
   "metadata": {},
   "outputs": [
    {
     "name": "stdout",
     "output_type": "stream",
     "text": [
      "Checking the Training on a Single Batch...\n",
      "Epoch  1, CIFAR-10 Batch 1:  \n",
      "\t<Training>\tcost:     2.0986 accuracy: 0.260135\n",
      "\t<Validation>\tcost:     2.0593 accuracy: 0.242400\n",
      "Epoch  2, CIFAR-10 Batch 1:  \n",
      "\t<Training>\tcost:     1.9910 accuracy: 0.283784\n",
      "\t<Validation>\tcost:     1.9277 accuracy: 0.295600\n",
      "Epoch  3, CIFAR-10 Batch 1:  \n",
      "\t<Training>\tcost:     1.8767 accuracy: 0.347973\n",
      "\t<Validation>\tcost:     1.7907 accuracy: 0.348000\n",
      "Epoch  4, CIFAR-10 Batch 1:  \n",
      "\t<Training>\tcost:     1.8142 accuracy: 0.378378\n",
      "\t<Validation>\tcost:     1.7174 accuracy: 0.377400\n",
      "Epoch  5, CIFAR-10 Batch 1:  \n",
      "\t<Training>\tcost:     1.7504 accuracy: 0.398649\n",
      "\t<Validation>\tcost:     1.6812 accuracy: 0.391400\n",
      "Epoch  6, CIFAR-10 Batch 1:  \n",
      "\t<Training>\tcost:     1.6529 accuracy: 0.442568\n",
      "\t<Validation>\tcost:     1.6013 accuracy: 0.421800\n",
      "Epoch  7, CIFAR-10 Batch 1:  \n",
      "\t<Training>\tcost:     1.5875 accuracy: 0.476351\n",
      "\t<Validation>\tcost:     1.5482 accuracy: 0.447800\n",
      "Epoch  8, CIFAR-10 Batch 1:  \n",
      "\t<Training>\tcost:     1.5718 accuracy: 0.483108\n",
      "\t<Validation>\tcost:     1.5295 accuracy: 0.443400\n",
      "Epoch  9, CIFAR-10 Batch 1:  \n",
      "\t<Training>\tcost:     1.4923 accuracy: 0.493243\n",
      "\t<Validation>\tcost:     1.4717 accuracy: 0.471000\n",
      "Epoch 10, CIFAR-10 Batch 1:  \n",
      "\t<Training>\tcost:     1.4381 accuracy: 0.543919\n",
      "\t<Validation>\tcost:     1.4322 accuracy: 0.482600\n",
      "Epoch 11, CIFAR-10 Batch 1:  \n",
      "\t<Training>\tcost:     1.3840 accuracy: 0.506757\n",
      "\t<Validation>\tcost:     1.4096 accuracy: 0.488200\n",
      "Epoch 12, CIFAR-10 Batch 1:  \n",
      "\t<Training>\tcost:     1.3286 accuracy: 0.540541\n",
      "\t<Validation>\tcost:     1.3790 accuracy: 0.504000\n",
      "Epoch 13, CIFAR-10 Batch 1:  \n",
      "\t<Training>\tcost:     1.2562 accuracy: 0.567568\n",
      "\t<Validation>\tcost:     1.3684 accuracy: 0.509600\n",
      "Epoch 14, CIFAR-10 Batch 1:  \n",
      "\t<Training>\tcost:     1.2242 accuracy: 0.587838\n",
      "\t<Validation>\tcost:     1.3533 accuracy: 0.511800\n",
      "Epoch 15, CIFAR-10 Batch 1:  \n",
      "\t<Training>\tcost:     1.1744 accuracy: 0.608108\n",
      "\t<Validation>\tcost:     1.3361 accuracy: 0.517400\n",
      "Epoch 16, CIFAR-10 Batch 1:  \n",
      "\t<Training>\tcost:     1.1181 accuracy: 0.611486\n",
      "\t<Validation>\tcost:     1.3250 accuracy: 0.520800\n",
      "Epoch 17, CIFAR-10 Batch 1:  \n",
      "\t<Training>\tcost:     1.0664 accuracy: 0.648649\n",
      "\t<Validation>\tcost:     1.3057 accuracy: 0.532600\n",
      "Epoch 18, CIFAR-10 Batch 1:  \n",
      "\t<Training>\tcost:     0.9977 accuracy: 0.672297\n",
      "\t<Validation>\tcost:     1.2918 accuracy: 0.533600\n",
      "Epoch 19, CIFAR-10 Batch 1:  \n",
      "\t<Training>\tcost:     1.0208 accuracy: 0.652027\n",
      "\t<Validation>\tcost:     1.3723 accuracy: 0.514400\n",
      "Epoch 20, CIFAR-10 Batch 1:  \n",
      "\t<Training>\tcost:     0.9076 accuracy: 0.722973\n",
      "\t<Validation>\tcost:     1.2730 accuracy: 0.539200\n"
     ]
    }
   ],
   "source": [
    "\"\"\"\n",
    "DON'T MODIFY ANYTHING IN THIS CELL\n",
    "\"\"\"\n",
    "print('Checking the Training on a Single Batch...')\n",
    "with tf.Session() as sess:\n",
    "    # Initializing the variables\n",
    "    sess.run(tf.global_variables_initializer())\n",
    "    \n",
    "    # Training cycle\n",
    "    for epoch in range(epochs):\n",
    "        batch_i = 1\n",
    "        for batch_features, batch_labels in helper.load_preprocess_training_batch(batch_i, batch_size):\n",
    "            train_neural_network(sess, optimizer, keep_probability, batch_features, batch_labels)\n",
    "        print('Epoch {:>2}, CIFAR-10 Batch {}:  '.format(epoch + 1, batch_i), end='')\n",
    "        print_stats(sess, batch_features, batch_labels, cost, accuracy)"
   ]
  },
  {
   "cell_type": "markdown",
   "metadata": {},
   "source": [
    "### Fully Train the Model\n",
    "Now that you got a good accuracy with a single CIFAR-10 batch, try it with all five batches."
   ]
  },
  {
   "cell_type": "code",
   "execution_count": 57,
   "metadata": {},
   "outputs": [
    {
     "name": "stdout",
     "output_type": "stream",
     "text": [
      "Training...\n",
      "Epoch  1, CIFAR-10 Batch 1:  \n",
      "\t<Training>\tcost:     2.1352 accuracy: 0.189189\n",
      "\t<Validation>\tcost:     2.0827 accuracy: 0.208000\n",
      "Epoch  1, CIFAR-10 Batch 2:  \n",
      "\t<Training>\tcost:     1.9046 accuracy: 0.304054\n",
      "\t<Validation>\tcost:     1.9186 accuracy: 0.286400\n",
      "Epoch  1, CIFAR-10 Batch 3:  \n",
      "\t<Training>\tcost:     1.7202 accuracy: 0.408784\n",
      "\t<Validation>\tcost:     1.7834 accuracy: 0.350800\n",
      "Epoch  1, CIFAR-10 Batch 4:  \n",
      "\t<Training>\tcost:     1.6916 accuracy: 0.395270\n",
      "\t<Validation>\tcost:     1.7200 accuracy: 0.382000\n",
      "Epoch  1, CIFAR-10 Batch 5:  \n",
      "\t<Training>\tcost:     1.6972 accuracy: 0.391892\n",
      "\t<Validation>\tcost:     1.6783 accuracy: 0.381200\n",
      "Epoch  2, CIFAR-10 Batch 1:  \n",
      "\t<Training>\tcost:     1.7250 accuracy: 0.415541\n",
      "\t<Validation>\tcost:     1.6029 accuracy: 0.417200\n",
      "Epoch  2, CIFAR-10 Batch 2:  \n",
      "\t<Training>\tcost:     1.5363 accuracy: 0.486486\n",
      "\t<Validation>\tcost:     1.5792 accuracy: 0.431600\n",
      "Epoch  2, CIFAR-10 Batch 3:  \n",
      "\t<Training>\tcost:     1.4143 accuracy: 0.523649\n",
      "\t<Validation>\tcost:     1.5355 accuracy: 0.447600\n",
      "Epoch  2, CIFAR-10 Batch 4:  \n",
      "\t<Training>\tcost:     1.4629 accuracy: 0.452703\n",
      "\t<Validation>\tcost:     1.5215 accuracy: 0.447200\n",
      "Epoch  2, CIFAR-10 Batch 5:  \n",
      "\t<Training>\tcost:     1.4803 accuracy: 0.472973\n",
      "\t<Validation>\tcost:     1.4823 accuracy: 0.459800\n",
      "Epoch  3, CIFAR-10 Batch 1:  \n",
      "\t<Training>\tcost:     1.5513 accuracy: 0.449324\n",
      "\t<Validation>\tcost:     1.4361 accuracy: 0.476000\n",
      "Epoch  3, CIFAR-10 Batch 2:  \n",
      "\t<Training>\tcost:     1.3720 accuracy: 0.523649\n",
      "\t<Validation>\tcost:     1.4228 accuracy: 0.484200\n",
      "Epoch  3, CIFAR-10 Batch 3:  \n",
      "\t<Training>\tcost:     1.2846 accuracy: 0.540541\n",
      "\t<Validation>\tcost:     1.4059 accuracy: 0.490800\n",
      "Epoch  3, CIFAR-10 Batch 4:  \n",
      "\t<Training>\tcost:     1.2858 accuracy: 0.466216\n",
      "\t<Validation>\tcost:     1.3818 accuracy: 0.496400\n",
      "Epoch  3, CIFAR-10 Batch 5:  \n",
      "\t<Training>\tcost:     1.3304 accuracy: 0.543919\n",
      "\t<Validation>\tcost:     1.3891 accuracy: 0.491000\n",
      "Epoch  4, CIFAR-10 Batch 1:  \n",
      "\t<Training>\tcost:     1.3718 accuracy: 0.527027\n",
      "\t<Validation>\tcost:     1.3131 accuracy: 0.520800\n",
      "Epoch  4, CIFAR-10 Batch 2:  \n",
      "\t<Training>\tcost:     1.2474 accuracy: 0.550676\n",
      "\t<Validation>\tcost:     1.3230 accuracy: 0.519200\n",
      "Epoch  4, CIFAR-10 Batch 3:  \n",
      "\t<Training>\tcost:     1.1774 accuracy: 0.570946\n",
      "\t<Validation>\tcost:     1.3314 accuracy: 0.522000\n",
      "Epoch  4, CIFAR-10 Batch 4:  \n",
      "\t<Training>\tcost:     1.1708 accuracy: 0.554054\n",
      "\t<Validation>\tcost:     1.2771 accuracy: 0.535200\n",
      "Epoch  4, CIFAR-10 Batch 5:  \n",
      "\t<Training>\tcost:     1.2410 accuracy: 0.581081\n",
      "\t<Validation>\tcost:     1.3232 accuracy: 0.526200\n",
      "Epoch  5, CIFAR-10 Batch 1:  \n",
      "\t<Training>\tcost:     1.2715 accuracy: 0.550676\n",
      "\t<Validation>\tcost:     1.2654 accuracy: 0.541800\n",
      "Epoch  5, CIFAR-10 Batch 2:  \n",
      "\t<Training>\tcost:     1.1468 accuracy: 0.611486\n",
      "\t<Validation>\tcost:     1.2472 accuracy: 0.548200\n",
      "Epoch  5, CIFAR-10 Batch 3:  \n",
      "\t<Training>\tcost:     1.0460 accuracy: 0.648649\n",
      "\t<Validation>\tcost:     1.2236 accuracy: 0.558600\n",
      "Epoch  5, CIFAR-10 Batch 4:  \n",
      "\t<Training>\tcost:     1.0581 accuracy: 0.601351\n",
      "\t<Validation>\tcost:     1.1974 accuracy: 0.569800\n",
      "Epoch  5, CIFAR-10 Batch 5:  \n",
      "\t<Training>\tcost:     1.1034 accuracy: 0.625000\n",
      "\t<Validation>\tcost:     1.2074 accuracy: 0.557200\n",
      "Epoch  6, CIFAR-10 Batch 1:  \n",
      "\t<Training>\tcost:     1.1833 accuracy: 0.608108\n",
      "\t<Validation>\tcost:     1.2099 accuracy: 0.565800\n",
      "Epoch  6, CIFAR-10 Batch 2:  \n",
      "\t<Training>\tcost:     1.0741 accuracy: 0.631757\n",
      "\t<Validation>\tcost:     1.1974 accuracy: 0.560200\n",
      "Epoch  6, CIFAR-10 Batch 3:  \n",
      "\t<Training>\tcost:     1.0410 accuracy: 0.641892\n",
      "\t<Validation>\tcost:     1.2216 accuracy: 0.562200\n",
      "Epoch  6, CIFAR-10 Batch 4:  \n",
      "\t<Training>\tcost:     1.0317 accuracy: 0.618243\n",
      "\t<Validation>\tcost:     1.1897 accuracy: 0.568000\n",
      "Epoch  6, CIFAR-10 Batch 5:  \n",
      "\t<Training>\tcost:     1.0107 accuracy: 0.662162\n",
      "\t<Validation>\tcost:     1.1421 accuracy: 0.584800\n",
      "Epoch  7, CIFAR-10 Batch 1:  \n",
      "\t<Training>\tcost:     1.0729 accuracy: 0.665541\n",
      "\t<Validation>\tcost:     1.1306 accuracy: 0.594200\n",
      "Epoch  7, CIFAR-10 Batch 2:  \n",
      "\t<Training>\tcost:     1.0128 accuracy: 0.625000\n",
      "\t<Validation>\tcost:     1.1275 accuracy: 0.587400\n",
      "Epoch  7, CIFAR-10 Batch 3:  \n",
      "\t<Training>\tcost:     0.9292 accuracy: 0.641892\n",
      "\t<Validation>\tcost:     1.1222 accuracy: 0.599600\n",
      "Epoch  7, CIFAR-10 Batch 4:  \n",
      "\t<Training>\tcost:     0.9355 accuracy: 0.665541\n",
      "\t<Validation>\tcost:     1.1138 accuracy: 0.594200\n",
      "Epoch  7, CIFAR-10 Batch 5:  \n",
      "\t<Training>\tcost:     0.9625 accuracy: 0.679054\n",
      "\t<Validation>\tcost:     1.1341 accuracy: 0.586400\n",
      "Epoch  8, CIFAR-10 Batch 1:  \n",
      "\t<Training>\tcost:     1.0391 accuracy: 0.631757\n",
      "\t<Validation>\tcost:     1.0998 accuracy: 0.600000\n",
      "Epoch  8, CIFAR-10 Batch 2:  \n",
      "\t<Training>\tcost:     0.9458 accuracy: 0.662162\n",
      "\t<Validation>\tcost:     1.0829 accuracy: 0.607600\n",
      "Epoch  8, CIFAR-10 Batch 3:  \n",
      "\t<Training>\tcost:     0.8641 accuracy: 0.716216\n",
      "\t<Validation>\tcost:     1.0961 accuracy: 0.607200\n",
      "Epoch  8, CIFAR-10 Batch 4:  \n",
      "\t<Training>\tcost:     0.9038 accuracy: 0.645270\n",
      "\t<Validation>\tcost:     1.0950 accuracy: 0.608600\n",
      "Epoch  8, CIFAR-10 Batch 5:  \n",
      "\t<Training>\tcost:     0.8793 accuracy: 0.692568\n",
      "\t<Validation>\tcost:     1.0973 accuracy: 0.595600\n",
      "Epoch  9, CIFAR-10 Batch 1:  \n",
      "\t<Training>\tcost:     1.0150 accuracy: 0.655405\n",
      "\t<Validation>\tcost:     1.1012 accuracy: 0.598200\n",
      "Epoch  9, CIFAR-10 Batch 2:  \n",
      "\t<Training>\tcost:     0.8831 accuracy: 0.675676\n",
      "\t<Validation>\tcost:     1.0635 accuracy: 0.615600\n",
      "Epoch  9, CIFAR-10 Batch 3:  \n",
      "\t<Training>\tcost:     0.8519 accuracy: 0.665541\n",
      "\t<Validation>\tcost:     1.0721 accuracy: 0.608800\n",
      "Epoch  9, CIFAR-10 Batch 4:  \n",
      "\t<Training>\tcost:     0.8541 accuracy: 0.689189\n",
      "\t<Validation>\tcost:     1.0603 accuracy: 0.619800\n",
      "Epoch  9, CIFAR-10 Batch 5:  \n",
      "\t<Training>\tcost:     0.8377 accuracy: 0.699324\n",
      "\t<Validation>\tcost:     1.0908 accuracy: 0.605000\n",
      "Epoch 10, CIFAR-10 Batch 1:  \n",
      "\t<Training>\tcost:     0.9544 accuracy: 0.675676\n",
      "\t<Validation>\tcost:     1.0648 accuracy: 0.616400\n",
      "Epoch 10, CIFAR-10 Batch 2:  \n",
      "\t<Training>\tcost:     0.8279 accuracy: 0.699324\n",
      "\t<Validation>\tcost:     1.0472 accuracy: 0.623600\n",
      "Epoch 10, CIFAR-10 Batch 3:  \n",
      "\t<Training>\tcost:     0.8233 accuracy: 0.699324\n",
      "\t<Validation>\tcost:     1.0675 accuracy: 0.618400\n",
      "Epoch 10, CIFAR-10 Batch 4:  \n",
      "\t<Training>\tcost:     0.8429 accuracy: 0.709459\n",
      "\t<Validation>\tcost:     1.0868 accuracy: 0.616000\n",
      "Epoch 10, CIFAR-10 Batch 5:  \n",
      "\t<Training>\tcost:     0.7664 accuracy: 0.726351\n",
      "\t<Validation>\tcost:     1.0441 accuracy: 0.622000\n",
      "Epoch 11, CIFAR-10 Batch 1:  \n",
      "\t<Training>\tcost:     0.8607 accuracy: 0.706081\n",
      "\t<Validation>\tcost:     1.0255 accuracy: 0.639000\n",
      "Epoch 11, CIFAR-10 Batch 2:  \n",
      "\t<Training>\tcost:     0.7966 accuracy: 0.699324\n",
      "\t<Validation>\tcost:     1.0403 accuracy: 0.624400\n",
      "Epoch 11, CIFAR-10 Batch 3:  \n",
      "\t<Training>\tcost:     0.7844 accuracy: 0.722973\n",
      "\t<Validation>\tcost:     1.0514 accuracy: 0.623200\n",
      "Epoch 11, CIFAR-10 Batch 4:  \n",
      "\t<Training>\tcost:     0.7677 accuracy: 0.729730\n",
      "\t<Validation>\tcost:     1.0506 accuracy: 0.624600\n",
      "Epoch 11, CIFAR-10 Batch 5:  \n",
      "\t<Training>\tcost:     0.7194 accuracy: 0.739865\n",
      "\t<Validation>\tcost:     1.0568 accuracy: 0.629400\n",
      "Epoch 12, CIFAR-10 Batch 1:  \n",
      "\t<Training>\tcost:     0.8264 accuracy: 0.702703\n",
      "\t<Validation>\tcost:     1.0170 accuracy: 0.640200\n",
      "Epoch 12, CIFAR-10 Batch 2:  \n",
      "\t<Training>\tcost:     0.7873 accuracy: 0.716216\n",
      "\t<Validation>\tcost:     1.0246 accuracy: 0.638400\n",
      "Epoch 12, CIFAR-10 Batch 3:  \n",
      "\t<Training>\tcost:     0.7301 accuracy: 0.760135\n",
      "\t<Validation>\tcost:     1.0119 accuracy: 0.640000\n",
      "Epoch 12, CIFAR-10 Batch 4:  \n",
      "\t<Training>\tcost:     0.6962 accuracy: 0.763514\n",
      "\t<Validation>\tcost:     1.0110 accuracy: 0.641200\n",
      "Epoch 12, CIFAR-10 Batch 5:  \n",
      "\t<Training>\tcost:     0.6810 accuracy: 0.770270\n",
      "\t<Validation>\tcost:     1.0347 accuracy: 0.639800\n",
      "Epoch 13, CIFAR-10 Batch 1:  \n",
      "\t<Training>\tcost:     0.7748 accuracy: 0.729730\n",
      "\t<Validation>\tcost:     1.0035 accuracy: 0.643800\n",
      "Epoch 13, CIFAR-10 Batch 2:  \n",
      "\t<Training>\tcost:     0.7392 accuracy: 0.746622\n",
      "\t<Validation>\tcost:     1.0246 accuracy: 0.639800\n",
      "Epoch 13, CIFAR-10 Batch 3:  \n",
      "\t<Training>\tcost:     0.7100 accuracy: 0.760135\n",
      "\t<Validation>\tcost:     1.0333 accuracy: 0.637600\n",
      "Epoch 13, CIFAR-10 Batch 4:  \n",
      "\t<Training>\tcost:     0.6953 accuracy: 0.763514\n",
      "\t<Validation>\tcost:     1.0480 accuracy: 0.627400\n"
     ]
    },
    {
     "name": "stdout",
     "output_type": "stream",
     "text": [
      "Epoch 13, CIFAR-10 Batch 5:  \n",
      "\t<Training>\tcost:     0.6745 accuracy: 0.770270\n",
      "\t<Validation>\tcost:     1.0252 accuracy: 0.640400\n",
      "Epoch 14, CIFAR-10 Batch 1:  \n",
      "\t<Training>\tcost:     0.7587 accuracy: 0.729730\n",
      "\t<Validation>\tcost:     1.0101 accuracy: 0.641400\n",
      "Epoch 14, CIFAR-10 Batch 2:  \n",
      "\t<Training>\tcost:     0.7099 accuracy: 0.777027\n",
      "\t<Validation>\tcost:     1.0077 accuracy: 0.644000\n",
      "Epoch 14, CIFAR-10 Batch 3:  \n",
      "\t<Training>\tcost:     0.6748 accuracy: 0.739865\n",
      "\t<Validation>\tcost:     1.0175 accuracy: 0.642400\n",
      "Epoch 14, CIFAR-10 Batch 4:  \n",
      "\t<Training>\tcost:     0.6791 accuracy: 0.763514\n",
      "\t<Validation>\tcost:     1.0562 accuracy: 0.624400\n",
      "Epoch 14, CIFAR-10 Batch 5:  \n",
      "\t<Training>\tcost:     0.6496 accuracy: 0.783784\n",
      "\t<Validation>\tcost:     1.0165 accuracy: 0.638800\n",
      "Epoch 15, CIFAR-10 Batch 1:  \n",
      "\t<Training>\tcost:     0.7153 accuracy: 0.739865\n",
      "\t<Validation>\tcost:     0.9967 accuracy: 0.639800\n",
      "Epoch 15, CIFAR-10 Batch 2:  \n",
      "\t<Training>\tcost:     0.6520 accuracy: 0.770270\n",
      "\t<Validation>\tcost:     0.9871 accuracy: 0.654600\n",
      "Epoch 15, CIFAR-10 Batch 3:  \n",
      "\t<Training>\tcost:     0.6007 accuracy: 0.787162\n",
      "\t<Validation>\tcost:     0.9843 accuracy: 0.659400\n",
      "Epoch 15, CIFAR-10 Batch 4:  \n",
      "\t<Training>\tcost:     0.6108 accuracy: 0.804054\n",
      "\t<Validation>\tcost:     1.0284 accuracy: 0.644800\n",
      "Epoch 15, CIFAR-10 Batch 5:  \n",
      "\t<Training>\tcost:     0.6155 accuracy: 0.783784\n",
      "\t<Validation>\tcost:     1.0087 accuracy: 0.644400\n",
      "Epoch 16, CIFAR-10 Batch 1:  \n",
      "\t<Training>\tcost:     0.6388 accuracy: 0.753378\n",
      "\t<Validation>\tcost:     0.9911 accuracy: 0.650200\n",
      "Epoch 16, CIFAR-10 Batch 2:  \n",
      "\t<Training>\tcost:     0.5998 accuracy: 0.817568\n",
      "\t<Validation>\tcost:     1.0000 accuracy: 0.653000\n",
      "Epoch 16, CIFAR-10 Batch 3:  \n",
      "\t<Training>\tcost:     0.5584 accuracy: 0.824324\n",
      "\t<Validation>\tcost:     0.9809 accuracy: 0.656600\n",
      "Epoch 16, CIFAR-10 Batch 4:  \n",
      "\t<Training>\tcost:     0.5557 accuracy: 0.834459\n",
      "\t<Validation>\tcost:     1.0060 accuracy: 0.647000\n",
      "Epoch 16, CIFAR-10 Batch 5:  \n",
      "\t<Training>\tcost:     0.5689 accuracy: 0.817568\n",
      "\t<Validation>\tcost:     1.0197 accuracy: 0.649000\n",
      "Epoch 17, CIFAR-10 Batch 1:  \n",
      "\t<Training>\tcost:     0.6537 accuracy: 0.777027\n",
      "\t<Validation>\tcost:     1.0000 accuracy: 0.647800\n",
      "Epoch 17, CIFAR-10 Batch 2:  \n",
      "\t<Training>\tcost:     0.5943 accuracy: 0.810811\n",
      "\t<Validation>\tcost:     1.0059 accuracy: 0.651000\n",
      "Epoch 17, CIFAR-10 Batch 3:  \n",
      "\t<Training>\tcost:     0.5536 accuracy: 0.804054\n",
      "\t<Validation>\tcost:     0.9972 accuracy: 0.654800\n",
      "Epoch 17, CIFAR-10 Batch 4:  \n",
      "\t<Training>\tcost:     0.5370 accuracy: 0.820946\n",
      "\t<Validation>\tcost:     1.0183 accuracy: 0.646000\n",
      "Epoch 17, CIFAR-10 Batch 5:  \n",
      "\t<Training>\tcost:     0.5330 accuracy: 0.837838\n",
      "\t<Validation>\tcost:     1.0087 accuracy: 0.653000\n",
      "Epoch 18, CIFAR-10 Batch 1:  \n",
      "\t<Training>\tcost:     0.5764 accuracy: 0.787162\n",
      "\t<Validation>\tcost:     0.9917 accuracy: 0.648000\n",
      "Epoch 18, CIFAR-10 Batch 2:  \n",
      "\t<Training>\tcost:     0.5743 accuracy: 0.797297\n",
      "\t<Validation>\tcost:     1.0132 accuracy: 0.651800\n",
      "Epoch 18, CIFAR-10 Batch 3:  \n",
      "\t<Training>\tcost:     0.4833 accuracy: 0.858108\n",
      "\t<Validation>\tcost:     0.9931 accuracy: 0.656600\n",
      "Epoch 18, CIFAR-10 Batch 4:  \n",
      "\t<Training>\tcost:     0.4904 accuracy: 0.837838\n",
      "\t<Validation>\tcost:     1.0179 accuracy: 0.647600\n",
      "Epoch 18, CIFAR-10 Batch 5:  \n",
      "\t<Training>\tcost:     0.4985 accuracy: 0.847973\n",
      "\t<Validation>\tcost:     1.0058 accuracy: 0.653200\n",
      "Epoch 19, CIFAR-10 Batch 1:  \n",
      "\t<Training>\tcost:     0.5235 accuracy: 0.824324\n",
      "\t<Validation>\tcost:     0.9992 accuracy: 0.651200\n",
      "Epoch 19, CIFAR-10 Batch 2:  \n",
      "\t<Training>\tcost:     0.5493 accuracy: 0.824324\n",
      "\t<Validation>\tcost:     1.0204 accuracy: 0.646600\n",
      "Epoch 19, CIFAR-10 Batch 3:  \n",
      "\t<Training>\tcost:     0.4508 accuracy: 0.841216\n",
      "\t<Validation>\tcost:     1.0067 accuracy: 0.654400\n",
      "Epoch 19, CIFAR-10 Batch 4:  \n",
      "\t<Training>\tcost:     0.4885 accuracy: 0.847973\n",
      "\t<Validation>\tcost:     1.0228 accuracy: 0.650000\n",
      "Epoch 19, CIFAR-10 Batch 5:  \n",
      "\t<Training>\tcost:     0.4716 accuracy: 0.847973\n",
      "\t<Validation>\tcost:     1.0115 accuracy: 0.654200\n",
      "Epoch 20, CIFAR-10 Batch 1:  \n",
      "\t<Training>\tcost:     0.5112 accuracy: 0.824324\n",
      "\t<Validation>\tcost:     1.0153 accuracy: 0.651600\n",
      "Epoch 20, CIFAR-10 Batch 2:  \n",
      "\t<Training>\tcost:     0.5043 accuracy: 0.844595\n",
      "\t<Validation>\tcost:     1.0283 accuracy: 0.641000\n",
      "Epoch 20, CIFAR-10 Batch 3:  \n",
      "\t<Training>\tcost:     0.4724 accuracy: 0.841216\n",
      "\t<Validation>\tcost:     1.0424 accuracy: 0.648800\n",
      "Epoch 20, CIFAR-10 Batch 4:  \n",
      "\t<Training>\tcost:     0.4963 accuracy: 0.834459\n",
      "\t<Validation>\tcost:     1.0710 accuracy: 0.636600\n",
      "Epoch 20, CIFAR-10 Batch 5:  \n",
      "\t<Training>\tcost:     0.4349 accuracy: 0.864865\n",
      "\t<Validation>\tcost:     1.0216 accuracy: 0.661400\n"
     ]
    }
   ],
   "source": [
    "\"\"\"\n",
    "DON'T MODIFY ANYTHING IN THIS CELL\n",
    "\"\"\"\n",
    "save_model_path = './image_classification'\n",
    "\n",
    "print('Training...')\n",
    "with tf.Session() as sess:\n",
    "    # Initializing the variables\n",
    "    sess.run(tf.global_variables_initializer())\n",
    "    \n",
    "    # Training cycle\n",
    "    for epoch in range(epochs):\n",
    "        # Loop over all batches\n",
    "        n_batches = 5\n",
    "        for batch_i in range(1, n_batches + 1):\n",
    "            for batch_features, batch_labels in helper.load_preprocess_training_batch(batch_i, batch_size):\n",
    "                train_neural_network(sess, optimizer, keep_probability, batch_features, batch_labels)\n",
    "            print('Epoch {:>2}, CIFAR-10 Batch {}:  '.format(epoch + 1, batch_i), end='')\n",
    "            print_stats(sess, batch_features, batch_labels, cost, accuracy)\n",
    "            \n",
    "    # Save Model\n",
    "    saver = tf.train.Saver()\n",
    "    save_path = saver.save(sess, save_model_path)"
   ]
  },
  {
   "cell_type": "markdown",
   "metadata": {},
   "source": [
    "# Checkpoint\n",
    "The model has been saved to disk.\n",
    "## Test Model\n",
    "Test your model against the test dataset.  This will be your final accuracy. You should have an accuracy greater than 50%. If you don't, keep tweaking the model architecture and parameters."
   ]
  },
  {
   "cell_type": "code",
   "execution_count": 58,
   "metadata": {},
   "outputs": [
    {
     "name": "stdout",
     "output_type": "stream",
     "text": [
      "Testing Accuracy: 0.6506204068660736\n",
      "\n"
     ]
    },
    {
     "data": {
      "image/png": "[encoded data removed]",
      "text/plain": [
       "<matplotlib.figure.Figure at 0x7ffa5355db00>"
      ]
     },
     "metadata": {
      "image/png": {
       "height": 319,
       "width": 355
      }
     },
     "output_type": "display_data"
    }
   ],
   "source": [
    "\"\"\"\n",
    "DON'T MODIFY ANYTHING IN THIS CELL\n",
    "\"\"\"\n",
    "%matplotlib inline\n",
    "%config InlineBackend.figure_format = 'retina'\n",
    "\n",
    "import tensorflow as tf\n",
    "import pickle\n",
    "import helper\n",
    "import random\n",
    "\n",
    "# Set batch size if not already set\n",
    "try:\n",
    "    if batch_size:\n",
    "        pass\n",
    "except NameError:\n",
    "    batch_size = 64\n",
    "\n",
    "save_model_path = './image_classification'\n",
    "n_samples = 4\n",
    "top_n_predictions = 3\n",
    "\n",
    "def test_model():\n",
    "    \"\"\"\n",
    "    Test the saved model against the test dataset\n",
    "    \"\"\"\n",
    "\n",
    "    test_features, test_labels = pickle.load(open('preprocess_test.p', mode='rb'))\n",
    "    loaded_graph = tf.Graph()\n",
    "\n",
    "    with tf.Session(graph=loaded_graph) as sess:\n",
    "        # Load model\n",
    "        loader = tf.train.import_meta_graph(save_model_path + '.meta')\n",
    "        loader.restore(sess, save_model_path)\n",
    "\n",
    "        # Get Tensors from loaded model\n",
    "        loaded_x = loaded_graph.get_tensor_by_name('x:0')\n",
    "        loaded_y = loaded_graph.get_tensor_by_name('y:0')\n",
    "        loaded_keep_prob = loaded_graph.get_tensor_by_name('keep_prob:0')\n",
    "        loaded_logits = loaded_graph.get_tensor_by_name('logits:0')\n",
    "        loaded_acc = loaded_graph.get_tensor_by_name('accuracy:0')\n",
    "        \n",
    "        # Get accuracy in batches for memory limitations\n",
    "        test_batch_acc_total = 0\n",
    "        test_batch_count = 0\n",
    "        \n",
    "        for test_feature_batch, test_label_batch in helper.batch_features_labels(test_features, test_labels, batch_size):\n",
    "            test_batch_acc_total += sess.run(\n",
    "                loaded_acc,\n",
    "                feed_dict={loaded_x: test_feature_batch, loaded_y: test_label_batch, loaded_keep_prob: 1.0})\n",
    "            test_batch_count += 1\n",
    "\n",
    "        print('Testing Accuracy: {}\\n'.format(test_batch_acc_total/test_batch_count))\n",
    "\n",
    "        # Print Random Samples\n",
    "        random_test_features, random_test_labels = tuple(zip(*random.sample(list(zip(test_features, test_labels)), n_samples)))\n",
    "        random_test_predictions = sess.run(\n",
    "            tf.nn.top_k(tf.nn.softmax(loaded_logits), top_n_predictions),\n",
    "            feed_dict={loaded_x: random_test_features, loaded_y: random_test_labels, loaded_keep_prob: 1.0})\n",
    "        helper.display_image_predictions(random_test_features, random_test_labels, random_test_predictions)\n",
    "\n",
    "\n",
    "test_model()"
   ]
  },
  {
   "cell_type": "markdown",
   "metadata": {},
   "source": [
    "## Why 50-80% Accuracy?\n",
    "You might be wondering why you can't get an accuracy any higher. First things first, 50% isn't bad for a simple CNN.  Pure guessing would get you 10% accuracy. However, you might notice people are getting scores [well above 80%](http://rodrigob.github.io/are_we_there_yet/build/classification_datasets_results.html#43494641522d3130).  That's because we haven't taught you all there is to know about neural networks. We still need to cover a few more techniques.\n",
    "## Submitting This Project\n",
    "When submitting this project, make sure to run all the cells before saving the notebook.  Save the notebook file as \"dlnd_image_classification.ipynb\" and save it as a HTML file under \"File\" -> \"Download as\".  Include the \"helper.py\" and \"problem_unittests.py\" files in your submission."
   ]
  }
 ],
 "metadata": {
  "kernelspec": {
   "display_name": "Python 3",
   "language": "python",
   "name": "python3"
  },
  "language_info": {
   "codemirror_mode": {
    "name": "ipython",
    "version": 3
   },
   "file_extension": ".py",
   "mimetype": "text/x-python",
   "name": "python",
   "nbconvert_exporter": "python",
   "pygments_lexer": "ipython3",
   "version": "3.6.1"
  }
 },
 "nbformat": 4,
 "nbformat_minor": 1
}
